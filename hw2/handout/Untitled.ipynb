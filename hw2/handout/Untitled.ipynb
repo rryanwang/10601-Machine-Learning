{
 "cells": [
  {
   "cell_type": "code",
   "execution_count": 29,
   "id": "ea80d80f",
   "metadata": {},
   "outputs": [],
   "source": [
    "import numpy as np\n",
    "import pandas as pd\n",
    "from collections import Counter"
   ]
  },
  {
   "cell_type": "code",
   "execution_count": 30,
   "id": "b9f12d7d",
   "metadata": {},
   "outputs": [],
   "source": [
    "infile = 'education_train.tsv'"
   ]
  },
  {
   "cell_type": "code",
   "execution_count": 31,
   "id": "527c7686",
   "metadata": {},
   "outputs": [],
   "source": [
    "df = pd.read_csv(infile, sep='\\t')\n",
    "dataset = df.to_numpy()"
   ]
  },
  {
   "cell_type": "code",
   "execution_count": 32,
   "id": "d7962077",
   "metadata": {},
   "outputs": [],
   "source": [
    "x = dataset[:, :-1]"
   ]
  },
  {
   "cell_type": "code",
   "execution_count": 33,
   "id": "dd7fa4d0",
   "metadata": {},
   "outputs": [],
   "source": [
    "y = dataset[:,-1]"
   ]
  },
  {
   "cell_type": "code",
   "execution_count": 34,
   "id": "a8f23192",
   "metadata": {},
   "outputs": [
    {
     "data": {
      "text/plain": [
       "array(['A', 'notA', 'A', 'notA', 'A', 'notA', 'notA', 'notA', 'A', 'notA',\n",
       "       'A', 'notA', 'A', 'A', 'A', 'A', 'A', 'A', 'A', 'A', 'notA', 'A',\n",
       "       'A', 'A', 'A', 'notA', 'A', 'notA', 'A', 'A', 'A', 'A', 'notA',\n",
       "       'A', 'A', 'A', 'A', 'A', 'A', 'A', 'A', 'A', 'A', 'A', 'A', 'A',\n",
       "       'A', 'notA', 'A', 'A', 'A', 'A', 'notA', 'A', 'A', 'A', 'A', 'A',\n",
       "       'notA', 'notA', 'notA', 'A', 'notA', 'A', 'A', 'A', 'notA', 'A',\n",
       "       'notA', 'A', 'A', 'notA', 'A', 'A', 'notA', 'notA', 'A', 'A', 'A',\n",
       "       'A', 'A', 'A', 'A', 'A', 'A', 'A', 'A', 'A', 'A', 'A', 'notA', 'A',\n",
       "       'A', 'A', 'A', 'A', 'A', 'A', 'notA', 'A', 'notA', 'notA', 'A',\n",
       "       'A', 'A', 'notA', 'notA', 'notA', 'A', 'A', 'A', 'notA', 'A',\n",
       "       'notA', 'A', 'A', 'notA', 'A', 'A', 'A', 'notA', 'notA', 'notA',\n",
       "       'A', 'notA', 'A', 'A', 'A', 'A', 'A', 'notA', 'notA', 'A', 'notA',\n",
       "       'notA', 'A', 'notA', 'A', 'notA', 'notA', 'A', 'notA', 'notA', 'A',\n",
       "       'A', 'notA', 'A', 'A', 'notA', 'notA', 'A', 'notA', 'A', 'A', 'A',\n",
       "       'notA', 'A', 'notA', 'A', 'A', 'A', 'A', 'notA', 'A', 'A', 'notA',\n",
       "       'notA', 'A', 'A', 'A', 'notA', 'A', 'notA', 'A', 'A', 'notA', 'A',\n",
       "       'A', 'A', 'A', 'A', 'A', 'A', 'notA', 'A', 'A', 'notA', 'A', 'A',\n",
       "       'notA', 'notA', 'A', 'notA', 'A', 'A', 'notA', 'notA', 'A', 'A',\n",
       "       'notA'], dtype=object)"
      ]
     },
     "execution_count": 34,
     "metadata": {},
     "output_type": "execute_result"
    }
   ],
   "source": [
    "y"
   ]
  },
  {
   "cell_type": "code",
   "execution_count": 35,
   "id": "3508ca49",
   "metadata": {},
   "outputs": [],
   "source": [
    "def get_entropy(y):\n",
    "    entropy = 0.0\n",
    "    labelCounter = Counter(y)\n",
    "    for label in labelCounter:\n",
    "        prob = labelCounter[label] / len(y)\n",
    "        entropy -= prob * np.log2(prob)\n",
    "    return entropy"
   ]
  },
  {
   "cell_type": "code",
   "execution_count": 36,
   "id": "eade3565",
   "metadata": {},
   "outputs": [
    {
     "data": {
      "text/plain": [
       "0.9097361225311662"
      ]
     },
     "execution_count": 36,
     "metadata": {},
     "output_type": "execute_result"
    }
   ],
   "source": [
    "get_entropy(y)"
   ]
  },
  {
   "cell_type": "code",
   "execution_count": 37,
   "id": "9c8e8741",
   "metadata": {},
   "outputs": [
    {
     "data": {
      "text/plain": [
       "0.9858150371789198"
      ]
     },
     "execution_count": 37,
     "metadata": {},
     "output_type": "execute_result"
    }
   ],
   "source": [
    "get_entropy(x[:, 0])"
   ]
  },
  {
   "cell_type": "code",
   "execution_count": 38,
   "id": "c38d7dd3",
   "metadata": {},
   "outputs": [
    {
     "data": {
      "text/plain": [
       "0.9927744539878083"
      ]
     },
     "execution_count": 38,
     "metadata": {},
     "output_type": "execute_result"
    }
   ],
   "source": [
    "get_entropy(x[:,1])"
   ]
  },
  {
   "cell_type": "code",
   "execution_count": 39,
   "id": "1c191b82",
   "metadata": {},
   "outputs": [
    {
     "data": {
      "text/plain": [
       "Counter({'notA': 114, 'A': 86})"
      ]
     },
     "execution_count": 39,
     "metadata": {},
     "output_type": "execute_result"
    }
   ],
   "source": [
    "Counter(x[:,0])"
   ]
  },
  {
   "cell_type": "code",
   "execution_count": 40,
   "id": "11867605",
   "metadata": {},
   "outputs": [],
   "source": [
    "def info_gain(x, y):\n",
    "    M,N = x.shape\n",
    "    old_entropy = get_entropy(y)\n",
    "    IG = [old_entropy for _ in range(N)]\n",
    "    for i in range(N):\n",
    "        col = x[:, i]\n",
    "        bv = np.unique(col)\n",
    "        for val in bv:\n",
    "            y_hat = y[col == val]\n",
    "            IG[i] -= get_entropy(y_hat) * len(y_hat) / len(y)\n",
    "    return IG"
   ]
  },
  {
   "cell_type": "code",
   "execution_count": 41,
   "id": "324286af",
   "metadata": {},
   "outputs": [
    {
     "data": {
      "text/plain": [
       "[0.04981747690857341,\n",
       " 0.0432921934400089,\n",
       " 0.030510179085057265,\n",
       " 0.09752763164157197,\n",
       " 0.05587688995298587,\n",
       " 0.05888068276485087,\n",
       " 0.021035219844874053,\n",
       " 0.009706003233221905,\n",
       " 0.017925572179261273,\n",
       " 0.2096140319941686]"
      ]
     },
     "execution_count": 41,
     "metadata": {},
     "output_type": "execute_result"
    }
   ],
   "source": [
    "info_gain(x,y)"
   ]
  },
  {
   "cell_type": "code",
   "execution_count": 42,
   "id": "ce35088f",
   "metadata": {},
   "outputs": [],
   "source": [
    "def split_index(x, y):\n",
    "    gain = info_gain(x,y)\n",
    "    index = gain.index(max(gain))\n",
    "    return index"
   ]
  },
  {
   "cell_type": "code",
   "execution_count": 43,
   "id": "199c1ec4",
   "metadata": {},
   "outputs": [
    {
     "data": {
      "text/plain": [
       "9"
      ]
     },
     "execution_count": 43,
     "metadata": {},
     "output_type": "execute_result"
    }
   ],
   "source": [
    "split_index(x, y)"
   ]
  },
  {
   "cell_type": "code",
   "execution_count": 47,
   "id": "f3dde2da",
   "metadata": {},
   "outputs": [],
   "source": [
    "def train_predict(x, y):\n",
    "    map = {}\n",
    "    index = split_index(x, y)\n",
    "    bv = np.unique(x)\n",
    "    for i in bv:\n",
    "        map[i] = Counter(y[x[:, index] == i]).most_common(1)[0][0]\n",
    "    label = []\n",
    "    for row in x:\n",
    "        label.append(map[row[index]])\n",
    "    return label\n",
    "    "
   ]
  },
  {
   "cell_type": "code",
   "execution_count": 51,
   "id": "98bcbe6f",
   "metadata": {},
   "outputs": [
    {
     "data": {
      "text/plain": [
       "array([['notA', 'notA', 'A', ..., 'notA', 'notA', 'A'],\n",
       "       ['notA', 'A', 'A', ..., 'notA', 'A', 'notA'],\n",
       "       ['notA', 'A', 'A', ..., 'notA', 'notA', 'A'],\n",
       "       ...,\n",
       "       ['A', 'A', 'A', ..., 'notA', 'notA', 'A'],\n",
       "       ['A', 'notA', 'notA', ..., 'notA', 'notA', 'A'],\n",
       "       ['notA', 'notA', 'notA', ..., 'A', 'notA', 'A']], dtype=object)"
      ]
     },
     "execution_count": 51,
     "metadata": {},
     "output_type": "execute_result"
    }
   ],
   "source": [
    "x"
   ]
  },
  {
   "cell_type": "code",
   "execution_count": 57,
   "id": "934b531f",
   "metadata": {},
   "outputs": [
    {
     "data": {
      "text/plain": [
       "Counter({'A': 70, 'notA': 16})"
      ]
     },
     "execution_count": 57,
     "metadata": {},
     "output_type": "execute_result"
    }
   ],
   "source": [
    "Counter(y[x[:,0]=='A'])"
   ]
  },
  {
   "cell_type": "code",
   "execution_count": 60,
   "id": "a3a1eec6",
   "metadata": {},
   "outputs": [
    {
     "data": {
      "text/plain": [
       "'A'"
      ]
     },
     "execution_count": 60,
     "metadata": {},
     "output_type": "execute_result"
    }
   ],
   "source": [
    "Counter(y[x[:,0]=='A']).most_common(1)[0][0]"
   ]
  },
  {
   "cell_type": "code",
   "execution_count": null,
   "id": "33cd763c",
   "metadata": {},
   "outputs": [],
   "source": []
  }
 ],
 "metadata": {
  "kernelspec": {
   "display_name": "Python 3",
   "language": "python",
   "name": "python3"
  },
  "language_info": {
   "codemirror_mode": {
    "name": "ipython",
    "version": 3
   },
   "file_extension": ".py",
   "mimetype": "text/x-python",
   "name": "python",
   "nbconvert_exporter": "python",
   "pygments_lexer": "ipython3",
   "version": "3.8.8"
  }
 },
 "nbformat": 4,
 "nbformat_minor": 5
}
