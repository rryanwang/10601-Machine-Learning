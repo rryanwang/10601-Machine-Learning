{
 "cells": [
  {
   "cell_type": "code",
   "execution_count": 1,
   "id": "67245962",
   "metadata": {},
   "outputs": [],
   "source": [
    "import numpy as np\n",
    "import pandas as pd\n",
    "from collections import Counter"
   ]
  },
  {
   "cell_type": "code",
   "execution_count": 2,
   "id": "5ead4a7e",
   "metadata": {},
   "outputs": [],
   "source": [
    "infile = 'small_train.tsv'"
   ]
  },
  {
   "cell_type": "code",
   "execution_count": 4,
   "id": "96376054",
   "metadata": {},
   "outputs": [],
   "source": [
    "df = pd.read_csv(infile, sep='\\t')\n",
    "dataset = df.to_numpy()\n",
    "x = dataset[:,:-1]\n",
    "y = dataset[:,-1]"
   ]
  },
  {
   "cell_type": "code",
   "execution_count": 6,
   "id": "2b427ca6",
   "metadata": {},
   "outputs": [],
   "source": [
    "def get_entropy(y):\n",
    "    numEntries = len(y)\n",
    "    labelCounts = Counter(y)\n",
    "    entropy = 0.0\n",
    "    for key in labelCounts:\n",
    "        prob = float(labelCounts[key]) / numEntries\n",
    "        entropy -= prob * np.log2(prob)\n",
    "    return entropy"
   ]
  },
  {
   "cell_type": "code",
   "execution_count": 7,
   "id": "f1a6bd15",
   "metadata": {},
   "outputs": [
    {
     "data": {
      "text/plain": [
       "0.996316519558962"
      ]
     },
     "execution_count": 7,
     "metadata": {},
     "output_type": "execute_result"
    }
   ],
   "source": [
    "get_entropy(y)"
   ]
  },
  {
   "cell_type": "code",
   "execution_count": 11,
   "id": "568af5e2",
   "metadata": {},
   "outputs": [],
   "source": [
    "def info_gain(X, Y):\n",
    "        M, N = X.shape\n",
    "        \n",
    "        y_entropy = calc_entropy(Y)\n",
    "        IG = [y_entropy for _ in range(N)]\n",
    "        \n",
    "        for i in range(N):\n",
    "            col = X[:, i]\n",
    "            binary_values = np.unique(col)\n",
    "            for bv in binary_values:\n",
    "                Y_hat = Y[col == bv]\n",
    "                IG[i] -= get_entropy(Y_hat) * len(Y_hat) / len(Y)\n",
    "                \n",
    "        return np.array(IG)"
   ]
  },
  {
   "cell_type": "code",
   "execution_count": 28,
   "id": "87c1ef3b",
   "metadata": {},
   "outputs": [],
   "source": [
    "def get_split_index(X, Y):\n",
    "    gain = info_gain(X,Y)\n",
    "    split_index = gain.argmax()\n",
    "    return split_index if gain[split_index]>0 else None\n",
    "    "
   ]
  },
  {
   "cell_type": "code",
   "execution_count": 80,
   "id": "34b16929",
   "metadata": {},
   "outputs": [],
   "source": [
    "class DecisionTree:\n",
    "    def __init__(self, max_depth):\n",
    "        # stem node\n",
    "        self.max_depth = max_depth\n",
    "        self.children = {} # key is the attribute value, value is the child node\n",
    "        self.split_index = None\n",
    "        # leaf node\n",
    "        self.label = None\n",
    "        \n",
    "    def Train(self, X, Y):\n",
    "        # convert this node to a leaf node\n",
    "        if self.max_depth <= 0 or self.split_index is None:\n",
    "            self.split_index = None\n",
    "            self.label = Counter(Y).most_common(1)[0][0]\n",
    "            return\n",
    "            \n",
    "        for val in np.unique(X):\n",
    "            self.children[val] = DecisionTree(self.max_depth - 1)\n",
    "            self.children[val] = Train([X[X[:,self.split_index]==val]], Y[X[:,self.split_index]==val])\n",
    "        \n",
    "    def predict_recursively(self, X):\n",
    "        if self.split_index is None:\n",
    "            return self.label\n",
    "        return self.children[X[self.split_index]].predict_recursively(x)\n",
    "    \n",
    "    def predict(self, X):\n",
    "        label = []\n",
    "        for row in X:\n",
    "            label.append(self.predict_recursively(row))\n",
    "        return np.array(label)\n",
    "    \n",
    "def get_error(Y, Y_hat):\n",
    "    return np.sum(Y != Y_hat) / len(Y)"
   ]
  },
  {
   "cell_type": "code",
   "execution_count": 81,
   "id": "61931a8d",
   "metadata": {},
   "outputs": [],
   "source": [
    "dtree = DecisionTree(3)"
   ]
  },
  {
   "cell_type": "code",
   "execution_count": 82,
   "id": "24a4c0ac",
   "metadata": {},
   "outputs": [],
   "source": [
    "dtree.Train(x,y)"
   ]
  },
  {
   "cell_type": "code",
   "execution_count": 83,
   "id": "98c0a5ad",
   "metadata": {
    "scrolled": true
   },
   "outputs": [
    {
     "data": {
      "text/plain": [
       "array(['democrat', 'democrat', 'democrat', 'democrat', 'democrat',\n",
       "       'democrat', 'democrat', 'democrat', 'democrat', 'democrat',\n",
       "       'democrat', 'democrat', 'democrat', 'democrat', 'democrat',\n",
       "       'democrat', 'democrat', 'democrat', 'democrat', 'democrat',\n",
       "       'democrat', 'democrat', 'democrat', 'democrat', 'democrat',\n",
       "       'democrat', 'democrat', 'democrat'], dtype='<U8')"
      ]
     },
     "execution_count": 83,
     "metadata": {},
     "output_type": "execute_result"
    }
   ],
   "source": [
    "dtree.predict(x)"
   ]
  },
  {
   "cell_type": "code",
   "execution_count": 85,
   "id": "ee845bae",
   "metadata": {},
   "outputs": [],
   "source": [
    "y_hat = dtree.predict(x)"
   ]
  },
  {
   "cell_type": "code",
   "execution_count": 86,
   "id": "7abff7f2",
   "metadata": {},
   "outputs": [
    {
     "data": {
      "text/plain": [
       "0.4642857142857143"
      ]
     },
     "execution_count": 86,
     "metadata": {},
     "output_type": "execute_result"
    }
   ],
   "source": [
    "get_error(y,y_hat)"
   ]
  },
  {
   "cell_type": "code",
   "execution_count": null,
   "id": "dfa9fa1b",
   "metadata": {},
   "outputs": [],
   "source": []
  }
 ],
 "metadata": {
  "kernelspec": {
   "display_name": "Python 3",
   "language": "python",
   "name": "python3"
  },
  "language_info": {
   "codemirror_mode": {
    "name": "ipython",
    "version": 3
   },
   "file_extension": ".py",
   "mimetype": "text/x-python",
   "name": "python",
   "nbconvert_exporter": "python",
   "pygments_lexer": "ipython3",
   "version": "3.8.8"
  }
 },
 "nbformat": 4,
 "nbformat_minor": 5
}
