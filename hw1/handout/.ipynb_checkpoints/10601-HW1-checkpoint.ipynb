{
 "cells": [
  {
   "cell_type": "code",
   "execution_count": 49,
   "id": "f61fb0c7",
   "metadata": {},
   "outputs": [],
   "source": [
    "import numpy as np\n",
    "import pandas as pd\n",
    "import math\n",
    "from collections import Counter"
   ]
  },
  {
   "cell_type": "code",
   "execution_count": 22,
   "id": "af646135",
   "metadata": {},
   "outputs": [],
   "source": [
    " infile = 'small_train.tsv'"
   ]
  },
  {
   "cell_type": "code",
   "execution_count": 23,
   "id": "992dc711",
   "metadata": {},
   "outputs": [],
   "source": [
    "df = pd.read_csv(infile, sep='\\t')\n",
    "data_train = df.to_numpy()"
   ]
  },
  {
   "cell_type": "code",
   "execution_count": 24,
   "id": "4540bc0b",
   "metadata": {},
   "outputs": [
    {
     "data": {
      "text/html": [
       "<div>\n",
       "<style scoped>\n",
       "    .dataframe tbody tr th:only-of-type {\n",
       "        vertical-align: middle;\n",
       "    }\n",
       "\n",
       "    .dataframe tbody tr th {\n",
       "        vertical-align: top;\n",
       "    }\n",
       "\n",
       "    .dataframe thead th {\n",
       "        text-align: right;\n",
       "    }\n",
       "</style>\n",
       "<table border=\"1\" class=\"dataframe\">\n",
       "  <thead>\n",
       "    <tr style=\"text-align: right;\">\n",
       "      <th></th>\n",
       "      <th>Anti_satellite_test_ban</th>\n",
       "      <th>Export_south_africa</th>\n",
       "      <th>Party</th>\n",
       "    </tr>\n",
       "  </thead>\n",
       "  <tbody>\n",
       "    <tr>\n",
       "      <th>0</th>\n",
       "      <td>n</td>\n",
       "      <td>y</td>\n",
       "      <td>democrat</td>\n",
       "    </tr>\n",
       "    <tr>\n",
       "      <th>1</th>\n",
       "      <td>n</td>\n",
       "      <td>y</td>\n",
       "      <td>republican</td>\n",
       "    </tr>\n",
       "    <tr>\n",
       "      <th>2</th>\n",
       "      <td>y</td>\n",
       "      <td>y</td>\n",
       "      <td>democrat</td>\n",
       "    </tr>\n",
       "    <tr>\n",
       "      <th>3</th>\n",
       "      <td>y</td>\n",
       "      <td>y</td>\n",
       "      <td>democrat</td>\n",
       "    </tr>\n",
       "    <tr>\n",
       "      <th>4</th>\n",
       "      <td>y</td>\n",
       "      <td>y</td>\n",
       "      <td>democrat</td>\n",
       "    </tr>\n",
       "    <tr>\n",
       "      <th>5</th>\n",
       "      <td>y</td>\n",
       "      <td>y</td>\n",
       "      <td>democrat</td>\n",
       "    </tr>\n",
       "    <tr>\n",
       "      <th>6</th>\n",
       "      <td>y</td>\n",
       "      <td>y</td>\n",
       "      <td>democrat</td>\n",
       "    </tr>\n",
       "    <tr>\n",
       "      <th>7</th>\n",
       "      <td>n</td>\n",
       "      <td>y</td>\n",
       "      <td>republican</td>\n",
       "    </tr>\n",
       "    <tr>\n",
       "      <th>8</th>\n",
       "      <td>y</td>\n",
       "      <td>y</td>\n",
       "      <td>democrat</td>\n",
       "    </tr>\n",
       "    <tr>\n",
       "      <th>9</th>\n",
       "      <td>n</td>\n",
       "      <td>n</td>\n",
       "      <td>republican</td>\n",
       "    </tr>\n",
       "    <tr>\n",
       "      <th>10</th>\n",
       "      <td>y</td>\n",
       "      <td>y</td>\n",
       "      <td>democrat</td>\n",
       "    </tr>\n",
       "    <tr>\n",
       "      <th>11</th>\n",
       "      <td>n</td>\n",
       "      <td>y</td>\n",
       "      <td>republican</td>\n",
       "    </tr>\n",
       "    <tr>\n",
       "      <th>12</th>\n",
       "      <td>y</td>\n",
       "      <td>y</td>\n",
       "      <td>democrat</td>\n",
       "    </tr>\n",
       "    <tr>\n",
       "      <th>13</th>\n",
       "      <td>n</td>\n",
       "      <td>n</td>\n",
       "      <td>republican</td>\n",
       "    </tr>\n",
       "    <tr>\n",
       "      <th>14</th>\n",
       "      <td>n</td>\n",
       "      <td>y</td>\n",
       "      <td>republican</td>\n",
       "    </tr>\n",
       "    <tr>\n",
       "      <th>15</th>\n",
       "      <td>n</td>\n",
       "      <td>n</td>\n",
       "      <td>republican</td>\n",
       "    </tr>\n",
       "    <tr>\n",
       "      <th>16</th>\n",
       "      <td>y</td>\n",
       "      <td>y</td>\n",
       "      <td>democrat</td>\n",
       "    </tr>\n",
       "    <tr>\n",
       "      <th>17</th>\n",
       "      <td>y</td>\n",
       "      <td>y</td>\n",
       "      <td>democrat</td>\n",
       "    </tr>\n",
       "    <tr>\n",
       "      <th>18</th>\n",
       "      <td>y</td>\n",
       "      <td>y</td>\n",
       "      <td>democrat</td>\n",
       "    </tr>\n",
       "    <tr>\n",
       "      <th>19</th>\n",
       "      <td>y</td>\n",
       "      <td>y</td>\n",
       "      <td>democrat</td>\n",
       "    </tr>\n",
       "    <tr>\n",
       "      <th>20</th>\n",
       "      <td>n</td>\n",
       "      <td>y</td>\n",
       "      <td>democrat</td>\n",
       "    </tr>\n",
       "    <tr>\n",
       "      <th>21</th>\n",
       "      <td>y</td>\n",
       "      <td>y</td>\n",
       "      <td>democrat</td>\n",
       "    </tr>\n",
       "    <tr>\n",
       "      <th>22</th>\n",
       "      <td>y</td>\n",
       "      <td>n</td>\n",
       "      <td>republican</td>\n",
       "    </tr>\n",
       "    <tr>\n",
       "      <th>23</th>\n",
       "      <td>n</td>\n",
       "      <td>n</td>\n",
       "      <td>republican</td>\n",
       "    </tr>\n",
       "    <tr>\n",
       "      <th>24</th>\n",
       "      <td>n</td>\n",
       "      <td>y</td>\n",
       "      <td>republican</td>\n",
       "    </tr>\n",
       "    <tr>\n",
       "      <th>25</th>\n",
       "      <td>n</td>\n",
       "      <td>y</td>\n",
       "      <td>republican</td>\n",
       "    </tr>\n",
       "    <tr>\n",
       "      <th>26</th>\n",
       "      <td>n</td>\n",
       "      <td>y</td>\n",
       "      <td>republican</td>\n",
       "    </tr>\n",
       "    <tr>\n",
       "      <th>27</th>\n",
       "      <td>n</td>\n",
       "      <td>n</td>\n",
       "      <td>republican</td>\n",
       "    </tr>\n",
       "  </tbody>\n",
       "</table>\n",
       "</div>"
      ],
      "text/plain": [
       "   Anti_satellite_test_ban Export_south_africa       Party\n",
       "0                        n                   y    democrat\n",
       "1                        n                   y  republican\n",
       "2                        y                   y    democrat\n",
       "3                        y                   y    democrat\n",
       "4                        y                   y    democrat\n",
       "5                        y                   y    democrat\n",
       "6                        y                   y    democrat\n",
       "7                        n                   y  republican\n",
       "8                        y                   y    democrat\n",
       "9                        n                   n  republican\n",
       "10                       y                   y    democrat\n",
       "11                       n                   y  republican\n",
       "12                       y                   y    democrat\n",
       "13                       n                   n  republican\n",
       "14                       n                   y  republican\n",
       "15                       n                   n  republican\n",
       "16                       y                   y    democrat\n",
       "17                       y                   y    democrat\n",
       "18                       y                   y    democrat\n",
       "19                       y                   y    democrat\n",
       "20                       n                   y    democrat\n",
       "21                       y                   y    democrat\n",
       "22                       y                   n  republican\n",
       "23                       n                   n  republican\n",
       "24                       n                   y  republican\n",
       "25                       n                   y  republican\n",
       "26                       n                   y  republican\n",
       "27                       n                   n  republican"
      ]
     },
     "execution_count": 24,
     "metadata": {},
     "output_type": "execute_result"
    }
   ],
   "source": [
    "df"
   ]
  },
  {
   "cell_type": "code",
   "execution_count": 25,
   "id": "d907df7d",
   "metadata": {},
   "outputs": [],
   "source": [
    "data_train = df.to_numpy()"
   ]
  },
  {
   "cell_type": "code",
   "execution_count": 26,
   "id": "34900291",
   "metadata": {},
   "outputs": [
    {
     "data": {
      "text/plain": [
       "array([['n', 'y', 'democrat'],\n",
       "       ['n', 'y', 'republican'],\n",
       "       ['y', 'y', 'democrat'],\n",
       "       ['y', 'y', 'democrat'],\n",
       "       ['y', 'y', 'democrat'],\n",
       "       ['y', 'y', 'democrat'],\n",
       "       ['y', 'y', 'democrat'],\n",
       "       ['n', 'y', 'republican'],\n",
       "       ['y', 'y', 'democrat'],\n",
       "       ['n', 'n', 'republican'],\n",
       "       ['y', 'y', 'democrat'],\n",
       "       ['n', 'y', 'republican'],\n",
       "       ['y', 'y', 'democrat'],\n",
       "       ['n', 'n', 'republican'],\n",
       "       ['n', 'y', 'republican'],\n",
       "       ['n', 'n', 'republican'],\n",
       "       ['y', 'y', 'democrat'],\n",
       "       ['y', 'y', 'democrat'],\n",
       "       ['y', 'y', 'democrat'],\n",
       "       ['y', 'y', 'democrat'],\n",
       "       ['n', 'y', 'democrat'],\n",
       "       ['y', 'y', 'democrat'],\n",
       "       ['y', 'n', 'republican'],\n",
       "       ['n', 'n', 'republican'],\n",
       "       ['n', 'y', 'republican'],\n",
       "       ['n', 'y', 'republican'],\n",
       "       ['n', 'y', 'republican'],\n",
       "       ['n', 'n', 'republican']], dtype=object)"
      ]
     },
     "execution_count": 26,
     "metadata": {},
     "output_type": "execute_result"
    }
   ],
   "source": [
    "data_train"
   ]
  },
  {
   "cell_type": "code",
   "execution_count": 27,
   "id": "7310688a",
   "metadata": {},
   "outputs": [],
   "source": [
    "train_x = data_train[:, :-1]"
   ]
  },
  {
   "cell_type": "code",
   "execution_count": 28,
   "id": "cbcab0be",
   "metadata": {},
   "outputs": [],
   "source": [
    "train_y = data_train[:, -1]"
   ]
  },
  {
   "cell_type": "code",
   "execution_count": 29,
   "id": "84b5bab1",
   "metadata": {},
   "outputs": [
    {
     "data": {
      "text/plain": [
       "array([['n', 'y'],\n",
       "       ['n', 'y'],\n",
       "       ['y', 'y'],\n",
       "       ['y', 'y'],\n",
       "       ['y', 'y'],\n",
       "       ['y', 'y'],\n",
       "       ['y', 'y'],\n",
       "       ['n', 'y'],\n",
       "       ['y', 'y'],\n",
       "       ['n', 'n'],\n",
       "       ['y', 'y'],\n",
       "       ['n', 'y'],\n",
       "       ['y', 'y'],\n",
       "       ['n', 'n'],\n",
       "       ['n', 'y'],\n",
       "       ['n', 'n'],\n",
       "       ['y', 'y'],\n",
       "       ['y', 'y'],\n",
       "       ['y', 'y'],\n",
       "       ['y', 'y'],\n",
       "       ['n', 'y'],\n",
       "       ['y', 'y'],\n",
       "       ['y', 'n'],\n",
       "       ['n', 'n'],\n",
       "       ['n', 'y'],\n",
       "       ['n', 'y'],\n",
       "       ['n', 'y'],\n",
       "       ['n', 'n']], dtype=object)"
      ]
     },
     "execution_count": 29,
     "metadata": {},
     "output_type": "execute_result"
    }
   ],
   "source": [
    "train_x"
   ]
  },
  {
   "cell_type": "code",
   "execution_count": 30,
   "id": "0e009605",
   "metadata": {},
   "outputs": [
    {
     "data": {
      "text/plain": [
       "array(['democrat', 'republican', 'democrat', 'democrat', 'democrat',\n",
       "       'democrat', 'democrat', 'republican', 'democrat', 'republican',\n",
       "       'democrat', 'republican', 'democrat', 'republican', 'republican',\n",
       "       'republican', 'democrat', 'democrat', 'democrat', 'democrat',\n",
       "       'democrat', 'democrat', 'republican', 'republican', 'republican',\n",
       "       'republican', 'republican', 'republican'], dtype=object)"
      ]
     },
     "execution_count": 30,
     "metadata": {},
     "output_type": "execute_result"
    }
   ],
   "source": [
    "train_y"
   ]
  },
  {
   "cell_type": "code",
   "execution_count": 31,
   "id": "6943b6fb",
   "metadata": {},
   "outputs": [],
   "source": [
    "binary_values = np.unique(train_x)"
   ]
  },
  {
   "cell_type": "code",
   "execution_count": 32,
   "id": "adf5ef37",
   "metadata": {},
   "outputs": [
    {
     "data": {
      "text/plain": [
       "array(['n', 'y'], dtype=object)"
      ]
     },
     "execution_count": 32,
     "metadata": {},
     "output_type": "execute_result"
    }
   ],
   "source": [
    "binary_values"
   ]
  },
  {
   "cell_type": "code",
   "execution_count": 33,
   "id": "50870ec9",
   "metadata": {},
   "outputs": [
    {
     "data": {
      "text/plain": [
       "array(['democrat', 'democrat', 'democrat', 'democrat', 'democrat',\n",
       "       'democrat', 'democrat', 'democrat', 'democrat', 'democrat',\n",
       "       'democrat', 'democrat', 'democrat', 'republican'], dtype=object)"
      ]
     },
     "execution_count": 33,
     "metadata": {},
     "output_type": "execute_result"
    }
   ],
   "source": [
    "train_y[train_x[:, 0] == 'y']"
   ]
  },
  {
   "cell_type": "code",
   "execution_count": 34,
   "id": "18ddfd79",
   "metadata": {},
   "outputs": [
    {
     "data": {
      "text/plain": [
       "array(['democrat', 'republican', 'republican', 'republican', 'republican',\n",
       "       'republican', 'republican', 'republican', 'democrat', 'republican',\n",
       "       'republican', 'republican', 'republican', 'republican'],\n",
       "      dtype=object)"
      ]
     },
     "execution_count": 34,
     "metadata": {},
     "output_type": "execute_result"
    }
   ],
   "source": [
    "train_y[train_x[:, 0] == 'n']"
   ]
  },
  {
   "cell_type": "code",
   "execution_count": 35,
   "id": "72e58fca",
   "metadata": {},
   "outputs": [
    {
     "ename": "SyntaxError",
     "evalue": "invalid syntax (<ipython-input-35-8cbabfbcfb86>, line 1)",
     "output_type": "error",
     "traceback": [
      "\u001b[0;36m  File \u001b[0;32m\"<ipython-input-35-8cbabfbcfb86>\"\u001b[0;36m, line \u001b[0;32m1\u001b[0m\n\u001b[0;31m    for i in\u001b[0m\n\u001b[0m             ^\u001b[0m\n\u001b[0;31mSyntaxError\u001b[0m\u001b[0;31m:\u001b[0m invalid syntax\n"
     ]
    }
   ],
   "source": [
    "for i in "
   ]
  },
  {
   "cell_type": "code",
   "execution_count": 36,
   "id": "bbfbfe15",
   "metadata": {},
   "outputs": [],
   "source": [
    "class DecisionStump:\n",
    "    def __init__(self):\n",
    "        self.tree = {}\n",
    "        \n",
    "    def train(self, train_x, train_y, attribute_index):\n",
    "        binary_values = np.unique(train_x)\n",
    "        for i in binary_values:\n",
    "            self.tree[i] = train_y[train_x[:, attribute_index] == i]\n",
    "            self.tree[i] = Counter(self.tree[i]).most_common(1)[0][0]\n",
    "            \n",
    "    def predict(self, x, attribute_index):\n",
    "        y = []\n",
    "        for row in x:\n",
    "            y.append(self.tree[row[attribute_index]])\n",
    "        return y"
   ]
  },
  {
   "cell_type": "code",
   "execution_count": null,
   "id": "1e6aaa6f",
   "metadata": {},
   "outputs": [],
   "source": [
    "dtree = DecisionStump()"
   ]
  },
  {
   "cell_type": "code",
   "execution_count": null,
   "id": "c76ecf57",
   "metadata": {},
   "outputs": [],
   "source": [
    "print(dtree.train(train_x, train_y, 0))"
   ]
  },
  {
   "cell_type": "code",
   "execution_count": null,
   "id": "a7e7ddc3",
   "metadata": {},
   "outputs": [],
   "source": [
    "print(dtree.predict(train_x, 1))"
   ]
  },
  {
   "cell_type": "code",
   "execution_count": null,
   "id": "ca80c343",
   "metadata": {},
   "outputs": [],
   "source": [
    "Counter(train_y).most_common(1)"
   ]
  },
  {
   "cell_type": "code",
   "execution_count": null,
   "id": "6671f8e8",
   "metadata": {},
   "outputs": [],
   "source": [
    "Counter(train_y).most_common(1)[0]"
   ]
  },
  {
   "cell_type": "code",
   "execution_count": null,
   "id": "d47a6d74",
   "metadata": {},
   "outputs": [],
   "source": [
    "Counter(train_y).most_common(1)[0][0]"
   ]
  },
  {
   "cell_type": "code",
   "execution_count": null,
   "id": "8ab3ba80",
   "metadata": {},
   "outputs": [],
   "source": [
    "occurences = collections.Counter(y)"
   ]
  },
  {
   "cell_type": "code",
   "execution_count": 37,
   "id": "b6b24b9c",
   "metadata": {},
   "outputs": [
    {
     "data": {
      "text/plain": [
       "array(['democrat', 'republican', 'democrat', 'democrat', 'democrat',\n",
       "       'democrat', 'democrat', 'republican', 'democrat', 'republican',\n",
       "       'democrat', 'republican', 'democrat', 'republican', 'republican',\n",
       "       'republican', 'democrat', 'democrat', 'democrat', 'democrat',\n",
       "       'democrat', 'democrat', 'republican', 'republican', 'republican',\n",
       "       'republican', 'republican', 'republican'], dtype=object)"
      ]
     },
     "execution_count": 37,
     "metadata": {},
     "output_type": "execute_result"
    }
   ],
   "source": [
    "train_y"
   ]
  },
  {
   "cell_type": "code",
   "execution_count": 38,
   "id": "9baa2317",
   "metadata": {},
   "outputs": [
    {
     "data": {
      "text/plain": [
       "['democrat',\n",
       " 'republican',\n",
       " 'democrat',\n",
       " 'democrat',\n",
       " 'democrat',\n",
       " 'democrat',\n",
       " 'democrat',\n",
       " 'republican',\n",
       " 'democrat',\n",
       " 'republican',\n",
       " 'democrat',\n",
       " 'republican',\n",
       " 'democrat',\n",
       " 'republican',\n",
       " 'republican',\n",
       " 'republican',\n",
       " 'democrat',\n",
       " 'democrat',\n",
       " 'democrat',\n",
       " 'democrat',\n",
       " 'democrat',\n",
       " 'democrat',\n",
       " 'republican',\n",
       " 'republican',\n",
       " 'republican',\n",
       " 'republican',\n",
       " 'republican',\n",
       " 'republican']"
      ]
     },
     "execution_count": 38,
     "metadata": {},
     "output_type": "execute_result"
    }
   ],
   "source": [
    "list(train_y)"
   ]
  },
  {
   "cell_type": "code",
   "execution_count": 42,
   "id": "47f7ad48",
   "metadata": {},
   "outputs": [],
   "source": [
    "labelCounts = Counter(train_y)"
   ]
  },
  {
   "cell_type": "code",
   "execution_count": 43,
   "id": "8075ee09",
   "metadata": {},
   "outputs": [
    {
     "data": {
      "text/plain": [
       "Counter({'democrat': 15, 'republican': 13})"
      ]
     },
     "execution_count": 43,
     "metadata": {},
     "output_type": "execute_result"
    }
   ],
   "source": [
    "labelCounts"
   ]
  },
  {
   "cell_type": "code",
   "execution_count": 44,
   "id": "9acac409",
   "metadata": {},
   "outputs": [],
   "source": [
    "entropy = 0.0"
   ]
  },
  {
   "cell_type": "code",
   "execution_count": 50,
   "id": "630da1c0",
   "metadata": {},
   "outputs": [
    {
     "name": "stdout",
     "output_type": "stream",
     "text": [
      "0.5357142857142857\n",
      "0.48239160345486726\n",
      "0.4642857142857143\n",
      "0.996316519558962\n"
     ]
    }
   ],
   "source": [
    "for label in labelCounts:\n",
    "    prob = labelCounts[label] / len(train_y)\n",
    "    entropy -= prob * math.log(prob, 2)\n",
    "    print(prob)\n",
    "    print(entropy)"
   ]
  },
  {
   "cell_type": "raw",
   "id": "34c3961b",
   "metadata": {},
   "source": [
    "list = []\n",
    "for label in labelCounts:\n",
    "    list.append(labelCounts[label])"
   ]
  },
  {
   "cell_type": "code",
   "execution_count": 53,
   "id": "4ca421e0",
   "metadata": {},
   "outputs": [
    {
     "data": {
      "text/plain": [
       "Counter({'democrat': 15, 'republican': 13})"
      ]
     },
     "execution_count": 53,
     "metadata": {},
     "output_type": "execute_result"
    }
   ],
   "source": [
    "labelCounts"
   ]
  },
  {
   "cell_type": "code",
   "execution_count": 58,
   "id": "d0a9dc69",
   "metadata": {},
   "outputs": [],
   "source": [
    "list= []\n",
    "for label in labelCounts:\n",
    "    list.append(labelCounts[label])"
   ]
  },
  {
   "cell_type": "code",
   "execution_count": 59,
   "id": "cafb9167",
   "metadata": {},
   "outputs": [
    {
     "data": {
      "text/plain": [
       "[15, 13]"
      ]
     },
     "execution_count": 59,
     "metadata": {},
     "output_type": "execute_result"
    }
   ],
   "source": [
    "list"
   ]
  },
  {
   "cell_type": "code",
   "execution_count": 64,
   "id": "4816eb0e",
   "metadata": {},
   "outputs": [],
   "source": [
    "if list[0] < list [1]:\n",
    "    error_rate = list[0] / len(train_y)\n",
    "elif list[0] > list[1]:\n",
    "        error_rate = list[1] / len(train_y)\n",
    "else:\n",
    "    error_rate = 0.5"
   ]
  },
  {
   "cell_type": "code",
   "execution_count": 65,
   "id": "e1281746",
   "metadata": {},
   "outputs": [
    {
     "data": {
      "text/plain": [
       "0.4642857142857143"
      ]
     },
     "execution_count": 65,
     "metadata": {},
     "output_type": "execute_result"
    }
   ],
   "source": [
    "error_rate"
   ]
  },
  {
   "cell_type": "code",
   "execution_count": 66,
   "id": "ac5b264f",
   "metadata": {},
   "outputs": [
    {
     "data": {
      "text/plain": [
       "array([['n', 'y', 'democrat'],\n",
       "       ['n', 'y', 'republican'],\n",
       "       ['y', 'y', 'democrat'],\n",
       "       ['y', 'y', 'democrat'],\n",
       "       ['y', 'y', 'democrat'],\n",
       "       ['y', 'y', 'democrat'],\n",
       "       ['y', 'y', 'democrat'],\n",
       "       ['n', 'y', 'republican'],\n",
       "       ['y', 'y', 'democrat'],\n",
       "       ['n', 'n', 'republican'],\n",
       "       ['y', 'y', 'democrat'],\n",
       "       ['n', 'y', 'republican'],\n",
       "       ['y', 'y', 'democrat'],\n",
       "       ['n', 'n', 'republican'],\n",
       "       ['n', 'y', 'republican'],\n",
       "       ['n', 'n', 'republican'],\n",
       "       ['y', 'y', 'democrat'],\n",
       "       ['y', 'y', 'democrat'],\n",
       "       ['y', 'y', 'democrat'],\n",
       "       ['y', 'y', 'democrat'],\n",
       "       ['n', 'y', 'democrat'],\n",
       "       ['y', 'y', 'democrat'],\n",
       "       ['y', 'n', 'republican'],\n",
       "       ['n', 'n', 'republican'],\n",
       "       ['n', 'y', 'republican'],\n",
       "       ['n', 'y', 'republican'],\n",
       "       ['n', 'y', 'republican'],\n",
       "       ['n', 'n', 'republican']], dtype=object)"
      ]
     },
     "execution_count": 66,
     "metadata": {},
     "output_type": "execute_result"
    }
   ],
   "source": [
    "data_train"
   ]
  },
  {
   "cell_type": "code",
   "execution_count": 67,
   "id": "0718be1d",
   "metadata": {},
   "outputs": [
    {
     "data": {
      "text/plain": [
       "array(['democrat', 'republican', 'democrat', 'democrat', 'democrat',\n",
       "       'democrat', 'democrat', 'republican', 'democrat', 'republican',\n",
       "       'democrat', 'republican', 'democrat', 'republican', 'republican',\n",
       "       'republican', 'democrat', 'democrat', 'democrat', 'democrat',\n",
       "       'democrat', 'democrat', 'republican', 'republican', 'republican',\n",
       "       'republican', 'republican', 'republican'], dtype=object)"
      ]
     },
     "execution_count": 67,
     "metadata": {},
     "output_type": "execute_result"
    }
   ],
   "source": [
    "train_x\n",
    "train_y"
   ]
  },
  {
   "cell_type": "code",
   "execution_count": 68,
   "id": "33738dff",
   "metadata": {},
   "outputs": [
    {
     "data": {
      "text/plain": [
       "array([['n', 'y'],\n",
       "       ['n', 'y'],\n",
       "       ['y', 'y'],\n",
       "       ['y', 'y'],\n",
       "       ['y', 'y'],\n",
       "       ['y', 'y'],\n",
       "       ['y', 'y'],\n",
       "       ['n', 'y'],\n",
       "       ['y', 'y'],\n",
       "       ['n', 'n'],\n",
       "       ['y', 'y'],\n",
       "       ['n', 'y'],\n",
       "       ['y', 'y'],\n",
       "       ['n', 'n'],\n",
       "       ['n', 'y'],\n",
       "       ['n', 'n'],\n",
       "       ['y', 'y'],\n",
       "       ['y', 'y'],\n",
       "       ['y', 'y'],\n",
       "       ['y', 'y'],\n",
       "       ['n', 'y'],\n",
       "       ['y', 'y'],\n",
       "       ['y', 'n'],\n",
       "       ['n', 'n'],\n",
       "       ['n', 'y'],\n",
       "       ['n', 'y'],\n",
       "       ['n', 'y'],\n",
       "       ['n', 'n']], dtype=object)"
      ]
     },
     "execution_count": 68,
     "metadata": {},
     "output_type": "execute_result"
    }
   ],
   "source": [
    "train_x"
   ]
  },
  {
   "cell_type": "code",
   "execution_count": 69,
   "id": "b9a7e584",
   "metadata": {},
   "outputs": [],
   "source": [
    "bv = np.unique(train_x)"
   ]
  },
  {
   "cell_type": "code",
   "execution_count": 70,
   "id": "1e5e43e1",
   "metadata": {},
   "outputs": [
    {
     "data": {
      "text/plain": [
       "array(['n', 'y'], dtype=object)"
      ]
     },
     "execution_count": 70,
     "metadata": {},
     "output_type": "execute_result"
    }
   ],
   "source": [
    "bv"
   ]
  },
  {
   "cell_type": "code",
   "execution_count": 71,
   "id": "e05458e7",
   "metadata": {},
   "outputs": [],
   "source": [
    "map = {}"
   ]
  },
  {
   "cell_type": "code",
   "execution_count": 96,
   "id": "a48a1e7a",
   "metadata": {},
   "outputs": [],
   "source": [
    "y_n = train_y[train_x[:, 0] == 'n']"
   ]
  },
  {
   "cell_type": "code",
   "execution_count": 97,
   "id": "d7b571ea",
   "metadata": {},
   "outputs": [
    {
     "data": {
      "text/plain": [
       "Counter({'democrat': 2, 'republican': 12})"
      ]
     },
     "execution_count": 97,
     "metadata": {},
     "output_type": "execute_result"
    }
   ],
   "source": [
    "Counter(y_n)"
   ]
  },
  {
   "cell_type": "code",
   "execution_count": 90,
   "id": "f523de7e",
   "metadata": {},
   "outputs": [
    {
     "data": {
      "text/plain": [
       "[('republican', 12)]"
      ]
     },
     "execution_count": 90,
     "metadata": {},
     "output_type": "execute_result"
    }
   ],
   "source": [
    "Counter(y_n).most_common(1)"
   ]
  },
  {
   "cell_type": "code",
   "execution_count": 85,
   "id": "3bc5be48",
   "metadata": {},
   "outputs": [
    {
     "data": {
      "text/plain": [
       "'republican'"
      ]
     },
     "execution_count": 85,
     "metadata": {},
     "output_type": "execute_result"
    }
   ],
   "source": [
    "Counter(y_n).most_common(1)[0][0]"
   ]
  },
  {
   "cell_type": "code",
   "execution_count": 103,
   "id": "3331c457",
   "metadata": {},
   "outputs": [],
   "source": [
    "for i in bv:\n",
    "    map[i] = Counter(train_y[train_x[:,0] == i]).most_common(1)[0][0]"
   ]
  },
  {
   "cell_type": "code",
   "execution_count": 104,
   "id": "8058f280",
   "metadata": {},
   "outputs": [
    {
     "data": {
      "text/plain": [
       "{'n': 'republican', 'y': 'democrat'}"
      ]
     },
     "execution_count": 104,
     "metadata": {},
     "output_type": "execute_result"
    }
   ],
   "source": [
    "map"
   ]
  },
  {
   "cell_type": "code",
   "execution_count": 106,
   "id": "82a647e2",
   "metadata": {},
   "outputs": [],
   "source": [
    "y = []"
   ]
  },
  {
   "cell_type": "code",
   "execution_count": 108,
   "id": "669d6122",
   "metadata": {},
   "outputs": [],
   "source": [
    "for row in train_x:\n",
    "    y.append(map[row[0]])"
   ]
  },
  {
   "cell_type": "code",
   "execution_count": 110,
   "id": "6a1e4cd9",
   "metadata": {},
   "outputs": [
    {
     "data": {
      "text/plain": [
       "{'n': 'republican', 'y': 'democrat'}"
      ]
     },
     "execution_count": 110,
     "metadata": {},
     "output_type": "execute_result"
    }
   ],
   "source": [
    "map"
   ]
  },
  {
   "cell_type": "code",
   "execution_count": 111,
   "id": "5a492f02",
   "metadata": {},
   "outputs": [
    {
     "data": {
      "text/plain": [
       "['republican',\n",
       " 'republican',\n",
       " 'democrat',\n",
       " 'democrat',\n",
       " 'democrat',\n",
       " 'democrat',\n",
       " 'democrat',\n",
       " 'republican',\n",
       " 'democrat',\n",
       " 'republican',\n",
       " 'democrat',\n",
       " 'republican',\n",
       " 'democrat',\n",
       " 'republican',\n",
       " 'republican',\n",
       " 'republican',\n",
       " 'democrat',\n",
       " 'democrat',\n",
       " 'democrat',\n",
       " 'democrat',\n",
       " 'republican',\n",
       " 'democrat',\n",
       " 'democrat',\n",
       " 'republican',\n",
       " 'republican',\n",
       " 'republican',\n",
       " 'republican',\n",
       " 'republican']"
      ]
     },
     "execution_count": 111,
     "metadata": {},
     "output_type": "execute_result"
    }
   ],
   "source": [
    "y"
   ]
  },
  {
   "cell_type": "code",
   "execution_count": 112,
   "id": "11a82ba0",
   "metadata": {},
   "outputs": [
    {
     "data": {
      "text/plain": [
       "array([['n', 'y'],\n",
       "       ['n', 'y'],\n",
       "       ['y', 'y'],\n",
       "       ['y', 'y'],\n",
       "       ['y', 'y'],\n",
       "       ['y', 'y'],\n",
       "       ['y', 'y'],\n",
       "       ['n', 'y'],\n",
       "       ['y', 'y'],\n",
       "       ['n', 'n'],\n",
       "       ['y', 'y'],\n",
       "       ['n', 'y'],\n",
       "       ['y', 'y'],\n",
       "       ['n', 'n'],\n",
       "       ['n', 'y'],\n",
       "       ['n', 'n'],\n",
       "       ['y', 'y'],\n",
       "       ['y', 'y'],\n",
       "       ['y', 'y'],\n",
       "       ['y', 'y'],\n",
       "       ['n', 'y'],\n",
       "       ['y', 'y'],\n",
       "       ['y', 'n'],\n",
       "       ['n', 'n'],\n",
       "       ['n', 'y'],\n",
       "       ['n', 'y'],\n",
       "       ['n', 'y'],\n",
       "       ['n', 'n']], dtype=object)"
      ]
     },
     "execution_count": 112,
     "metadata": {},
     "output_type": "execute_result"
    }
   ],
   "source": [
    "train_x"
   ]
  },
  {
   "cell_type": "code",
   "execution_count": 113,
   "id": "ee34dd31",
   "metadata": {},
   "outputs": [],
   "source": [
    "x = train_x"
   ]
  },
  {
   "cell_type": "code",
   "execution_count": 114,
   "id": "04e953b2",
   "metadata": {},
   "outputs": [
    {
     "data": {
      "text/plain": [
       "array([['n', 'y'],\n",
       "       ['n', 'y'],\n",
       "       ['y', 'y'],\n",
       "       ['y', 'y'],\n",
       "       ['y', 'y'],\n",
       "       ['y', 'y'],\n",
       "       ['y', 'y'],\n",
       "       ['n', 'y'],\n",
       "       ['y', 'y'],\n",
       "       ['n', 'n'],\n",
       "       ['y', 'y'],\n",
       "       ['n', 'y'],\n",
       "       ['y', 'y'],\n",
       "       ['n', 'n'],\n",
       "       ['n', 'y'],\n",
       "       ['n', 'n'],\n",
       "       ['y', 'y'],\n",
       "       ['y', 'y'],\n",
       "       ['y', 'y'],\n",
       "       ['y', 'y'],\n",
       "       ['n', 'y'],\n",
       "       ['y', 'y'],\n",
       "       ['y', 'n'],\n",
       "       ['n', 'n'],\n",
       "       ['n', 'y'],\n",
       "       ['n', 'y'],\n",
       "       ['n', 'y'],\n",
       "       ['n', 'n']], dtype=object)"
      ]
     },
     "execution_count": 114,
     "metadata": {},
     "output_type": "execute_result"
    }
   ],
   "source": [
    "x"
   ]
  },
  {
   "cell_type": "code",
   "execution_count": 115,
   "id": "5ad63f5d",
   "metadata": {},
   "outputs": [
    {
     "data": {
      "text/plain": [
       "array(['n', 'n', 'y', 'y', 'y', 'y', 'y', 'n', 'y', 'n', 'y', 'n', 'y',\n",
       "       'n', 'n', 'n', 'y', 'y', 'y', 'y', 'n', 'y', 'y', 'n', 'n', 'n',\n",
       "       'n', 'n'], dtype=object)"
      ]
     },
     "execution_count": 115,
     "metadata": {},
     "output_type": "execute_result"
    }
   ],
   "source": [
    "x[:, 0]"
   ]
  },
  {
   "cell_type": "code",
   "execution_count": 116,
   "id": "f893fb2f",
   "metadata": {},
   "outputs": [
    {
     "data": {
      "text/plain": [
       "{'n', 'y'}"
      ]
     },
     "execution_count": 116,
     "metadata": {},
     "output_type": "execute_result"
    }
   ],
   "source": [
    "set(x[:,0])"
   ]
  },
  {
   "cell_type": "code",
   "execution_count": 132,
   "id": "1f309fbd",
   "metadata": {},
   "outputs": [
    {
     "name": "stdout",
     "output_type": "stream",
     "text": [
      "[['n' 'y']\n",
      " ['n' 'y']\n",
      " ['n' 'y']\n",
      " ['n' 'n']\n",
      " ['n' 'y']\n",
      " ['n' 'n']\n",
      " ['n' 'y']\n",
      " ['n' 'n']\n",
      " ['n' 'y']\n",
      " ['n' 'n']\n",
      " ['n' 'y']\n",
      " ['n' 'y']\n",
      " ['n' 'y']\n",
      " ['n' 'n']]\n",
      "[['y' 'y']\n",
      " ['y' 'y']\n",
      " ['y' 'y']\n",
      " ['y' 'y']\n",
      " ['y' 'y']\n",
      " ['y' 'y']\n",
      " ['y' 'y']\n",
      " ['y' 'y']\n",
      " ['y' 'y']\n",
      " ['y' 'y']\n",
      " ['y' 'y']\n",
      " ['y' 'y']\n",
      " ['y' 'y']\n",
      " ['y' 'n']]\n"
     ]
    }
   ],
   "source": [
    "for val in set(x[:,0]):\n",
    "    x_x = x[x[:,0] == val]\n",
    "    print(x_x)"
   ]
  },
  {
   "cell_type": "code",
   "execution_count": 141,
   "id": "952a20cb",
   "metadata": {},
   "outputs": [],
   "source": [
    "def get_entropy(y):\n",
    "    labelCounter = Counter(y)\n",
    "    entropy = 0.0\n",
    "    for val in labelCounter:\n",
    "        prob = labelCounter[val] / len(y)\n",
    "        entropy -= prob * np.log2(prob)\n",
    "    return entropy"
   ]
  },
  {
   "cell_type": "code",
   "execution_count": 146,
   "id": "62e0a0f9",
   "metadata": {},
   "outputs": [],
   "source": [
    "old_e = get_entropy(train_y)"
   ]
  },
  {
   "cell_type": "code",
   "execution_count": 147,
   "id": "58f8b898",
   "metadata": {},
   "outputs": [],
   "source": [
    "M, N = x.shape"
   ]
  },
  {
   "cell_type": "code",
   "execution_count": 148,
   "id": "31f2f873",
   "metadata": {},
   "outputs": [
    {
     "data": {
      "text/plain": [
       "2"
      ]
     },
     "execution_count": 148,
     "metadata": {},
     "output_type": "execute_result"
    }
   ],
   "source": [
    "N"
   ]
  },
  {
   "cell_type": "code",
   "execution_count": 149,
   "id": "00fb3dbc",
   "metadata": {},
   "outputs": [
    {
     "data": {
      "text/plain": [
       "28"
      ]
     },
     "execution_count": 149,
     "metadata": {},
     "output_type": "execute_result"
    }
   ],
   "source": [
    "M"
   ]
  },
  {
   "cell_type": "code",
   "execution_count": 150,
   "id": "4d451552",
   "metadata": {},
   "outputs": [],
   "source": [
    "ig = [old_e for _ in range(2)]"
   ]
  },
  {
   "cell_type": "code",
   "execution_count": 151,
   "id": "c6a4624a",
   "metadata": {},
   "outputs": [
    {
     "data": {
      "text/plain": [
       "[0.996316519558962, 0.996316519558962]"
      ]
     },
     "execution_count": 151,
     "metadata": {},
     "output_type": "execute_result"
    }
   ],
   "source": [
    "ig"
   ]
  },
  {
   "cell_type": "code",
   "execution_count": 152,
   "id": "75768108",
   "metadata": {},
   "outputs": [],
   "source": [
    "col = x[:, 0]"
   ]
  },
  {
   "cell_type": "code",
   "execution_count": 153,
   "id": "e36c572a",
   "metadata": {},
   "outputs": [
    {
     "data": {
      "text/plain": [
       "array(['n', 'n', 'y', 'y', 'y', 'y', 'y', 'n', 'y', 'n', 'y', 'n', 'y',\n",
       "       'n', 'n', 'n', 'y', 'y', 'y', 'y', 'n', 'y', 'y', 'n', 'n', 'n',\n",
       "       'n', 'n'], dtype=object)"
      ]
     },
     "execution_count": 153,
     "metadata": {},
     "output_type": "execute_result"
    }
   ],
   "source": [
    "col"
   ]
  },
  {
   "cell_type": "code",
   "execution_count": 154,
   "id": "15e28a8b",
   "metadata": {},
   "outputs": [],
   "source": [
    "bv = np.unique(col)"
   ]
  },
  {
   "cell_type": "code",
   "execution_count": 155,
   "id": "1bc9f48a",
   "metadata": {},
   "outputs": [
    {
     "data": {
      "text/plain": [
       "array(['n', 'y'], dtype=object)"
      ]
     },
     "execution_count": 155,
     "metadata": {},
     "output_type": "execute_result"
    }
   ],
   "source": [
    "bv"
   ]
  },
  {
   "cell_type": "code",
   "execution_count": 156,
   "id": "83e84754",
   "metadata": {},
   "outputs": [
    {
     "data": {
      "text/plain": [
       "{'n', 'y'}"
      ]
     },
     "execution_count": 156,
     "metadata": {},
     "output_type": "execute_result"
    }
   ],
   "source": [
    "set(col)"
   ]
  },
  {
   "cell_type": "code",
   "execution_count": 158,
   "id": "25f66101",
   "metadata": {},
   "outputs": [],
   "source": [
    "y = train_y"
   ]
  },
  {
   "cell_type": "code",
   "execution_count": 159,
   "id": "9b5c623b",
   "metadata": {},
   "outputs": [
    {
     "data": {
      "text/plain": [
       "array(['democrat', 'republican', 'democrat', 'democrat', 'democrat',\n",
       "       'democrat', 'democrat', 'republican', 'democrat', 'republican',\n",
       "       'democrat', 'republican', 'democrat', 'republican', 'republican',\n",
       "       'republican', 'democrat', 'democrat', 'democrat', 'democrat',\n",
       "       'democrat', 'democrat', 'republican', 'republican', 'republican',\n",
       "       'republican', 'republican', 'republican'], dtype=object)"
      ]
     },
     "execution_count": 159,
     "metadata": {},
     "output_type": "execute_result"
    }
   ],
   "source": [
    "y"
   ]
  },
  {
   "cell_type": "code",
   "execution_count": 160,
   "id": "90e8d1da",
   "metadata": {},
   "outputs": [],
   "source": [
    "y_hat = y[col=='n']"
   ]
  },
  {
   "cell_type": "code",
   "execution_count": 161,
   "id": "060f4d37",
   "metadata": {},
   "outputs": [
    {
     "data": {
      "text/plain": [
       "array(['democrat', 'republican', 'republican', 'republican', 'republican',\n",
       "       'republican', 'republican', 'republican', 'democrat', 'republican',\n",
       "       'republican', 'republican', 'republican', 'republican'],\n",
       "      dtype=object)"
      ]
     },
     "execution_count": 161,
     "metadata": {},
     "output_type": "execute_result"
    }
   ],
   "source": [
    "y_hat"
   ]
  },
  {
   "cell_type": "code",
   "execution_count": 162,
   "id": "7f2f3761",
   "metadata": {},
   "outputs": [],
   "source": [
    "for i in range(N):\n",
    "    col = x[:, i]\n",
    "    for val in set(col):\n",
    "        y_hat = y[col == val]\n",
    "        ig[i] -= get_entropy(y_hat) * len(y_hat) / len(y)"
   ]
  },
  {
   "cell_type": "code",
   "execution_count": 163,
   "id": "ff77228b",
   "metadata": {},
   "outputs": [
    {
     "data": {
      "text/plain": [
       "[0.5148639669473605, 0.2872932259343359]"
      ]
     },
     "execution_count": 163,
     "metadata": {},
     "output_type": "execute_result"
    }
   ],
   "source": [
    "ig"
   ]
  },
  {
   "cell_type": "code",
   "execution_count": 164,
   "id": "311deefa",
   "metadata": {},
   "outputs": [
    {
     "data": {
      "text/plain": [
       "0.996316519558962"
      ]
     },
     "execution_count": 164,
     "metadata": {},
     "output_type": "execute_result"
    }
   ],
   "source": [
    "old_e"
   ]
  },
  {
   "cell_type": "code",
   "execution_count": 165,
   "id": "d2c6d3f9",
   "metadata": {},
   "outputs": [],
   "source": [
    "ig = [old_e for _ in range(N)]"
   ]
  },
  {
   "cell_type": "code",
   "execution_count": 166,
   "id": "8599855b",
   "metadata": {},
   "outputs": [
    {
     "data": {
      "text/plain": [
       "[0.996316519558962, 0.996316519558962]"
      ]
     },
     "execution_count": 166,
     "metadata": {},
     "output_type": "execute_result"
    }
   ],
   "source": [
    "ig"
   ]
  },
  {
   "cell_type": "code",
   "execution_count": 173,
   "id": "76525fa6",
   "metadata": {},
   "outputs": [],
   "source": [
    "for i in range(N):\n",
    "    col = x[:, i]\n",
    "    for val in np.unique(col):\n",
    "        y_hat = y[col == val]\n",
    "        ig[i] = ig[i] - get_entropy(y_hat) * len(y_hat) / len(y)"
   ]
  },
  {
   "cell_type": "code",
   "execution_count": 175,
   "id": "00c5e6f2",
   "metadata": {},
   "outputs": [
    {
     "data": {
      "text/plain": [
       "array(['y', 'y', 'y', 'y', 'y', 'y', 'y', 'y', 'y', 'n', 'y', 'y', 'y',\n",
       "       'n', 'y', 'n', 'y', 'y', 'y', 'y', 'y', 'y', 'n', 'n', 'y', 'y',\n",
       "       'y', 'n'], dtype=object)"
      ]
     },
     "execution_count": 175,
     "metadata": {},
     "output_type": "execute_result"
    }
   ],
   "source": [
    "col"
   ]
  },
  {
   "cell_type": "code",
   "execution_count": 176,
   "id": "55152d40",
   "metadata": {},
   "outputs": [],
   "source": [
    "bv = np.unique(col)"
   ]
  },
  {
   "cell_type": "code",
   "execution_count": 177,
   "id": "47244f1d",
   "metadata": {},
   "outputs": [
    {
     "data": {
      "text/plain": [
       "array(['n', 'y'], dtype=object)"
      ]
     },
     "execution_count": 177,
     "metadata": {},
     "output_type": "execute_result"
    }
   ],
   "source": [
    "bv"
   ]
  },
  {
   "cell_type": "code",
   "execution_count": 178,
   "id": "0bcc927f",
   "metadata": {},
   "outputs": [],
   "source": [
    "for val in bv:\n",
    "    y_hat = y[col == val]"
   ]
  },
  {
   "cell_type": "code",
   "execution_count": 179,
   "id": "8d3ce581",
   "metadata": {},
   "outputs": [
    {
     "data": {
      "text/plain": [
       "array(['democrat', 'republican', 'democrat', 'democrat', 'democrat',\n",
       "       'democrat', 'democrat', 'republican', 'democrat', 'democrat',\n",
       "       'republican', 'democrat', 'republican', 'democrat', 'democrat',\n",
       "       'democrat', 'democrat', 'democrat', 'democrat', 'republican',\n",
       "       'republican', 'republican'], dtype=object)"
      ]
     },
     "execution_count": 179,
     "metadata": {},
     "output_type": "execute_result"
    }
   ],
   "source": [
    "y_hat"
   ]
  },
  {
   "cell_type": "code",
   "execution_count": null,
   "id": "49702286",
   "metadata": {},
   "outputs": [],
   "source": []
  }
 ],
 "metadata": {
  "kernelspec": {
   "display_name": "Python 3",
   "language": "python",
   "name": "python3"
  },
  "language_info": {
   "codemirror_mode": {
    "name": "ipython",
    "version": 3
   },
   "file_extension": ".py",
   "mimetype": "text/x-python",
   "name": "python",
   "nbconvert_exporter": "python",
   "pygments_lexer": "ipython3",
   "version": "3.8.8"
  }
 },
 "nbformat": 4,
 "nbformat_minor": 5
}
