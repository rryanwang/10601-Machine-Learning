{
 "cells": [
  {
   "cell_type": "code",
   "execution_count": 213,
   "id": "f61fb0c7",
   "metadata": {},
   "outputs": [],
   "source": [
    "import numpy as np\n",
    "import pandas as pd\n",
    "import math\n",
    "from collections import Counter"
   ]
  },
  {
   "cell_type": "code",
   "execution_count": 214,
   "id": "af646135",
   "metadata": {},
   "outputs": [],
   "source": [
    " infile = 'small_train.tsv'"
   ]
  },
  {
   "cell_type": "code",
   "execution_count": 215,
   "id": "992dc711",
   "metadata": {},
   "outputs": [],
   "source": [
    "df = pd.read_csv(infile, sep='\\t')\n",
    "data_train = df.to_numpy()"
   ]
  },
  {
   "cell_type": "code",
   "execution_count": 216,
   "id": "4540bc0b",
   "metadata": {},
   "outputs": [
    {
     "data": {
      "text/html": [
       "<div>\n",
       "<style scoped>\n",
       "    .dataframe tbody tr th:only-of-type {\n",
       "        vertical-align: middle;\n",
       "    }\n",
       "\n",
       "    .dataframe tbody tr th {\n",
       "        vertical-align: top;\n",
       "    }\n",
       "\n",
       "    .dataframe thead th {\n",
       "        text-align: right;\n",
       "    }\n",
       "</style>\n",
       "<table border=\"1\" class=\"dataframe\">\n",
       "  <thead>\n",
       "    <tr style=\"text-align: right;\">\n",
       "      <th></th>\n",
       "      <th>Anti_satellite_test_ban</th>\n",
       "      <th>Export_south_africa</th>\n",
       "      <th>Party</th>\n",
       "    </tr>\n",
       "  </thead>\n",
       "  <tbody>\n",
       "    <tr>\n",
       "      <th>0</th>\n",
       "      <td>n</td>\n",
       "      <td>y</td>\n",
       "      <td>democrat</td>\n",
       "    </tr>\n",
       "    <tr>\n",
       "      <th>1</th>\n",
       "      <td>n</td>\n",
       "      <td>y</td>\n",
       "      <td>republican</td>\n",
       "    </tr>\n",
       "    <tr>\n",
       "      <th>2</th>\n",
       "      <td>y</td>\n",
       "      <td>y</td>\n",
       "      <td>democrat</td>\n",
       "    </tr>\n",
       "    <tr>\n",
       "      <th>3</th>\n",
       "      <td>y</td>\n",
       "      <td>y</td>\n",
       "      <td>democrat</td>\n",
       "    </tr>\n",
       "    <tr>\n",
       "      <th>4</th>\n",
       "      <td>y</td>\n",
       "      <td>y</td>\n",
       "      <td>democrat</td>\n",
       "    </tr>\n",
       "    <tr>\n",
       "      <th>5</th>\n",
       "      <td>y</td>\n",
       "      <td>y</td>\n",
       "      <td>democrat</td>\n",
       "    </tr>\n",
       "    <tr>\n",
       "      <th>6</th>\n",
       "      <td>y</td>\n",
       "      <td>y</td>\n",
       "      <td>democrat</td>\n",
       "    </tr>\n",
       "    <tr>\n",
       "      <th>7</th>\n",
       "      <td>n</td>\n",
       "      <td>y</td>\n",
       "      <td>republican</td>\n",
       "    </tr>\n",
       "    <tr>\n",
       "      <th>8</th>\n",
       "      <td>y</td>\n",
       "      <td>y</td>\n",
       "      <td>democrat</td>\n",
       "    </tr>\n",
       "    <tr>\n",
       "      <th>9</th>\n",
       "      <td>n</td>\n",
       "      <td>n</td>\n",
       "      <td>republican</td>\n",
       "    </tr>\n",
       "    <tr>\n",
       "      <th>10</th>\n",
       "      <td>y</td>\n",
       "      <td>y</td>\n",
       "      <td>democrat</td>\n",
       "    </tr>\n",
       "    <tr>\n",
       "      <th>11</th>\n",
       "      <td>n</td>\n",
       "      <td>y</td>\n",
       "      <td>republican</td>\n",
       "    </tr>\n",
       "    <tr>\n",
       "      <th>12</th>\n",
       "      <td>y</td>\n",
       "      <td>y</td>\n",
       "      <td>democrat</td>\n",
       "    </tr>\n",
       "    <tr>\n",
       "      <th>13</th>\n",
       "      <td>n</td>\n",
       "      <td>n</td>\n",
       "      <td>republican</td>\n",
       "    </tr>\n",
       "    <tr>\n",
       "      <th>14</th>\n",
       "      <td>n</td>\n",
       "      <td>y</td>\n",
       "      <td>republican</td>\n",
       "    </tr>\n",
       "    <tr>\n",
       "      <th>15</th>\n",
       "      <td>n</td>\n",
       "      <td>n</td>\n",
       "      <td>republican</td>\n",
       "    </tr>\n",
       "    <tr>\n",
       "      <th>16</th>\n",
       "      <td>y</td>\n",
       "      <td>y</td>\n",
       "      <td>democrat</td>\n",
       "    </tr>\n",
       "    <tr>\n",
       "      <th>17</th>\n",
       "      <td>y</td>\n",
       "      <td>y</td>\n",
       "      <td>democrat</td>\n",
       "    </tr>\n",
       "    <tr>\n",
       "      <th>18</th>\n",
       "      <td>y</td>\n",
       "      <td>y</td>\n",
       "      <td>democrat</td>\n",
       "    </tr>\n",
       "    <tr>\n",
       "      <th>19</th>\n",
       "      <td>y</td>\n",
       "      <td>y</td>\n",
       "      <td>democrat</td>\n",
       "    </tr>\n",
       "    <tr>\n",
       "      <th>20</th>\n",
       "      <td>n</td>\n",
       "      <td>y</td>\n",
       "      <td>democrat</td>\n",
       "    </tr>\n",
       "    <tr>\n",
       "      <th>21</th>\n",
       "      <td>y</td>\n",
       "      <td>y</td>\n",
       "      <td>democrat</td>\n",
       "    </tr>\n",
       "    <tr>\n",
       "      <th>22</th>\n",
       "      <td>y</td>\n",
       "      <td>n</td>\n",
       "      <td>republican</td>\n",
       "    </tr>\n",
       "    <tr>\n",
       "      <th>23</th>\n",
       "      <td>n</td>\n",
       "      <td>n</td>\n",
       "      <td>republican</td>\n",
       "    </tr>\n",
       "    <tr>\n",
       "      <th>24</th>\n",
       "      <td>n</td>\n",
       "      <td>y</td>\n",
       "      <td>republican</td>\n",
       "    </tr>\n",
       "    <tr>\n",
       "      <th>25</th>\n",
       "      <td>n</td>\n",
       "      <td>y</td>\n",
       "      <td>republican</td>\n",
       "    </tr>\n",
       "    <tr>\n",
       "      <th>26</th>\n",
       "      <td>n</td>\n",
       "      <td>y</td>\n",
       "      <td>republican</td>\n",
       "    </tr>\n",
       "    <tr>\n",
       "      <th>27</th>\n",
       "      <td>n</td>\n",
       "      <td>n</td>\n",
       "      <td>republican</td>\n",
       "    </tr>\n",
       "  </tbody>\n",
       "</table>\n",
       "</div>"
      ],
      "text/plain": [
       "   Anti_satellite_test_ban Export_south_africa       Party\n",
       "0                        n                   y    democrat\n",
       "1                        n                   y  republican\n",
       "2                        y                   y    democrat\n",
       "3                        y                   y    democrat\n",
       "4                        y                   y    democrat\n",
       "5                        y                   y    democrat\n",
       "6                        y                   y    democrat\n",
       "7                        n                   y  republican\n",
       "8                        y                   y    democrat\n",
       "9                        n                   n  republican\n",
       "10                       y                   y    democrat\n",
       "11                       n                   y  republican\n",
       "12                       y                   y    democrat\n",
       "13                       n                   n  republican\n",
       "14                       n                   y  republican\n",
       "15                       n                   n  republican\n",
       "16                       y                   y    democrat\n",
       "17                       y                   y    democrat\n",
       "18                       y                   y    democrat\n",
       "19                       y                   y    democrat\n",
       "20                       n                   y    democrat\n",
       "21                       y                   y    democrat\n",
       "22                       y                   n  republican\n",
       "23                       n                   n  republican\n",
       "24                       n                   y  republican\n",
       "25                       n                   y  republican\n",
       "26                       n                   y  republican\n",
       "27                       n                   n  republican"
      ]
     },
     "execution_count": 216,
     "metadata": {},
     "output_type": "execute_result"
    }
   ],
   "source": [
    "df"
   ]
  },
  {
   "cell_type": "code",
   "execution_count": 217,
   "id": "d907df7d",
   "metadata": {},
   "outputs": [],
   "source": [
    "data_train = df.to_numpy()"
   ]
  },
  {
   "cell_type": "code",
   "execution_count": 218,
   "id": "34900291",
   "metadata": {},
   "outputs": [
    {
     "data": {
      "text/plain": [
       "array([['n', 'y', 'democrat'],\n",
       "       ['n', 'y', 'republican'],\n",
       "       ['y', 'y', 'democrat'],\n",
       "       ['y', 'y', 'democrat'],\n",
       "       ['y', 'y', 'democrat'],\n",
       "       ['y', 'y', 'democrat'],\n",
       "       ['y', 'y', 'democrat'],\n",
       "       ['n', 'y', 'republican'],\n",
       "       ['y', 'y', 'democrat'],\n",
       "       ['n', 'n', 'republican'],\n",
       "       ['y', 'y', 'democrat'],\n",
       "       ['n', 'y', 'republican'],\n",
       "       ['y', 'y', 'democrat'],\n",
       "       ['n', 'n', 'republican'],\n",
       "       ['n', 'y', 'republican'],\n",
       "       ['n', 'n', 'republican'],\n",
       "       ['y', 'y', 'democrat'],\n",
       "       ['y', 'y', 'democrat'],\n",
       "       ['y', 'y', 'democrat'],\n",
       "       ['y', 'y', 'democrat'],\n",
       "       ['n', 'y', 'democrat'],\n",
       "       ['y', 'y', 'democrat'],\n",
       "       ['y', 'n', 'republican'],\n",
       "       ['n', 'n', 'republican'],\n",
       "       ['n', 'y', 'republican'],\n",
       "       ['n', 'y', 'republican'],\n",
       "       ['n', 'y', 'republican'],\n",
       "       ['n', 'n', 'republican']], dtype=object)"
      ]
     },
     "execution_count": 218,
     "metadata": {},
     "output_type": "execute_result"
    }
   ],
   "source": [
    "data_train"
   ]
  },
  {
   "cell_type": "code",
   "execution_count": 219,
   "id": "7310688a",
   "metadata": {},
   "outputs": [],
   "source": [
    "train_x = data_train[:, :-1]"
   ]
  },
  {
   "cell_type": "code",
   "execution_count": 220,
   "id": "cbcab0be",
   "metadata": {},
   "outputs": [],
   "source": [
    "train_y = data_train[:, -1]"
   ]
  },
  {
   "cell_type": "code",
   "execution_count": 221,
   "id": "84b5bab1",
   "metadata": {},
   "outputs": [
    {
     "data": {
      "text/plain": [
       "array([['n', 'y'],\n",
       "       ['n', 'y'],\n",
       "       ['y', 'y'],\n",
       "       ['y', 'y'],\n",
       "       ['y', 'y'],\n",
       "       ['y', 'y'],\n",
       "       ['y', 'y'],\n",
       "       ['n', 'y'],\n",
       "       ['y', 'y'],\n",
       "       ['n', 'n'],\n",
       "       ['y', 'y'],\n",
       "       ['n', 'y'],\n",
       "       ['y', 'y'],\n",
       "       ['n', 'n'],\n",
       "       ['n', 'y'],\n",
       "       ['n', 'n'],\n",
       "       ['y', 'y'],\n",
       "       ['y', 'y'],\n",
       "       ['y', 'y'],\n",
       "       ['y', 'y'],\n",
       "       ['n', 'y'],\n",
       "       ['y', 'y'],\n",
       "       ['y', 'n'],\n",
       "       ['n', 'n'],\n",
       "       ['n', 'y'],\n",
       "       ['n', 'y'],\n",
       "       ['n', 'y'],\n",
       "       ['n', 'n']], dtype=object)"
      ]
     },
     "execution_count": 221,
     "metadata": {},
     "output_type": "execute_result"
    }
   ],
   "source": [
    "train_x"
   ]
  },
  {
   "cell_type": "code",
   "execution_count": 222,
   "id": "0e009605",
   "metadata": {},
   "outputs": [
    {
     "data": {
      "text/plain": [
       "array(['democrat', 'republican', 'democrat', 'democrat', 'democrat',\n",
       "       'democrat', 'democrat', 'republican', 'democrat', 'republican',\n",
       "       'democrat', 'republican', 'democrat', 'republican', 'republican',\n",
       "       'republican', 'democrat', 'democrat', 'democrat', 'democrat',\n",
       "       'democrat', 'democrat', 'republican', 'republican', 'republican',\n",
       "       'republican', 'republican', 'republican'], dtype=object)"
      ]
     },
     "execution_count": 222,
     "metadata": {},
     "output_type": "execute_result"
    }
   ],
   "source": [
    "train_y"
   ]
  },
  {
   "cell_type": "code",
   "execution_count": 223,
   "id": "6943b6fb",
   "metadata": {},
   "outputs": [],
   "source": [
    "binary_values = np.unique(train_x)"
   ]
  },
  {
   "cell_type": "code",
   "execution_count": 224,
   "id": "adf5ef37",
   "metadata": {},
   "outputs": [
    {
     "data": {
      "text/plain": [
       "array(['n', 'y'], dtype=object)"
      ]
     },
     "execution_count": 224,
     "metadata": {},
     "output_type": "execute_result"
    }
   ],
   "source": [
    "binary_values"
   ]
  },
  {
   "cell_type": "code",
   "execution_count": 225,
   "id": "50870ec9",
   "metadata": {},
   "outputs": [
    {
     "data": {
      "text/plain": [
       "array(['democrat', 'democrat', 'democrat', 'democrat', 'democrat',\n",
       "       'democrat', 'democrat', 'democrat', 'democrat', 'democrat',\n",
       "       'democrat', 'democrat', 'democrat', 'republican'], dtype=object)"
      ]
     },
     "execution_count": 225,
     "metadata": {},
     "output_type": "execute_result"
    }
   ],
   "source": [
    "train_y[train_x[:, 0] == 'y']"
   ]
  },
  {
   "cell_type": "code",
   "execution_count": 226,
   "id": "18ddfd79",
   "metadata": {},
   "outputs": [
    {
     "data": {
      "text/plain": [
       "array(['democrat', 'republican', 'republican', 'republican', 'republican',\n",
       "       'republican', 'republican', 'republican', 'democrat', 'republican',\n",
       "       'republican', 'republican', 'republican', 'republican'],\n",
       "      dtype=object)"
      ]
     },
     "execution_count": 226,
     "metadata": {},
     "output_type": "execute_result"
    }
   ],
   "source": [
    "train_y[train_x[:, 0] == 'n']"
   ]
  },
  {
   "cell_type": "code",
   "execution_count": 227,
   "id": "72e58fca",
   "metadata": {},
   "outputs": [
    {
     "ename": "SyntaxError",
     "evalue": "invalid syntax (<ipython-input-227-8cbabfbcfb86>, line 1)",
     "output_type": "error",
     "traceback": [
      "\u001b[0;36m  File \u001b[0;32m\"<ipython-input-227-8cbabfbcfb86>\"\u001b[0;36m, line \u001b[0;32m1\u001b[0m\n\u001b[0;31m    for i in\u001b[0m\n\u001b[0m             ^\u001b[0m\n\u001b[0;31mSyntaxError\u001b[0m\u001b[0;31m:\u001b[0m invalid syntax\n"
     ]
    }
   ],
   "source": [
    "for i in "
   ]
  },
  {
   "cell_type": "code",
   "execution_count": null,
   "id": "bbfbfe15",
   "metadata": {},
   "outputs": [],
   "source": [
    "class DecisionStump:\n",
    "    def __init__(self):\n",
    "        self.tree = {}\n",
    "        \n",
    "    def train(self, train_x, train_y, attribute_index):\n",
    "        binary_values = np.unique(train_x)\n",
    "        for i in binary_values:\n",
    "            self.tree[i] = train_y[train_x[:, attribute_index] == i]\n",
    "            self.tree[i] = Counter(self.tree[i]).most_common(1)[0][0]\n",
    "            \n",
    "    def predict(self, x, attribute_index):\n",
    "        y = []\n",
    "        for row in x:\n",
    "            y.append(self.tree[row[attribute_index]])\n",
    "        return y"
   ]
  },
  {
   "cell_type": "code",
   "execution_count": null,
   "id": "1e6aaa6f",
   "metadata": {},
   "outputs": [],
   "source": [
    "dtree = DecisionStump()"
   ]
  },
  {
   "cell_type": "code",
   "execution_count": null,
   "id": "c76ecf57",
   "metadata": {},
   "outputs": [],
   "source": [
    "print(dtree.train(train_x, train_y, 0))"
   ]
  },
  {
   "cell_type": "code",
   "execution_count": null,
   "id": "a7e7ddc3",
   "metadata": {},
   "outputs": [],
   "source": [
    "print(dtree.predict(train_x, 1))"
   ]
  },
  {
   "cell_type": "code",
   "execution_count": null,
   "id": "ca80c343",
   "metadata": {},
   "outputs": [],
   "source": [
    "Counter(train_y).most_common(1)"
   ]
  },
  {
   "cell_type": "code",
   "execution_count": null,
   "id": "6671f8e8",
   "metadata": {},
   "outputs": [],
   "source": [
    "Counter(train_y).most_common(1)[0]"
   ]
  },
  {
   "cell_type": "code",
   "execution_count": null,
   "id": "d47a6d74",
   "metadata": {},
   "outputs": [],
   "source": [
    "Counter(train_y).most_common(1)[0][0]"
   ]
  },
  {
   "cell_type": "code",
   "execution_count": null,
   "id": "8ab3ba80",
   "metadata": {},
   "outputs": [],
   "source": [
    "occurences = collections.Counter(y)"
   ]
  },
  {
   "cell_type": "code",
   "execution_count": null,
   "id": "b6b24b9c",
   "metadata": {},
   "outputs": [],
   "source": [
    "train_y"
   ]
  },
  {
   "cell_type": "code",
   "execution_count": null,
   "id": "9baa2317",
   "metadata": {},
   "outputs": [],
   "source": [
    "list(train_y)"
   ]
  },
  {
   "cell_type": "code",
   "execution_count": null,
   "id": "47f7ad48",
   "metadata": {},
   "outputs": [],
   "source": [
    "labelCounts = Counter(train_y)"
   ]
  },
  {
   "cell_type": "code",
   "execution_count": null,
   "id": "39c778c6",
   "metadata": {},
   "outputs": [],
   "source": [
    "labelCounts"
   ]
  },
  {
   "cell_type": "code",
   "execution_count": null,
   "id": "9e7f0f29",
   "metadata": {},
   "outputs": [],
   "source": [
    "entropy = 0.0"
   ]
  },
  {
   "cell_type": "code",
   "execution_count": null,
   "id": "2f27e7f2",
   "metadata": {},
   "outputs": [],
   "source": [
    "for label in labelCounts:\n",
    "    prob = labelCounts[label] / len(train_y)\n",
    "    entropy -= prob * math.log(prob, 2)\n",
    "    print(prob)\n",
    "    print(entropy)"
   ]
  },
  {
   "cell_type": "raw",
   "id": "382c2641",
   "metadata": {},
   "source": [
    "list = []\n",
    "for label in labelCounts:\n",
    "    list.append(labelCounts[label])"
   ]
  },
  {
   "cell_type": "code",
   "execution_count": 228,
   "id": "1ab5a5bb",
   "metadata": {},
   "outputs": [
    {
     "data": {
      "text/plain": [
       "Counter({'democrat': 15, 'republican': 13})"
      ]
     },
     "execution_count": 228,
     "metadata": {},
     "output_type": "execute_result"
    }
   ],
   "source": [
    "labelCounts"
   ]
  },
  {
   "cell_type": "code",
   "execution_count": 229,
   "id": "cf7ee993",
   "metadata": {},
   "outputs": [],
   "source": [
    "list= []\n",
    "for label in labelCounts:\n",
    "    list.append(labelCounts[label])"
   ]
  },
  {
   "cell_type": "code",
   "execution_count": 230,
   "id": "703d61de",
   "metadata": {},
   "outputs": [
    {
     "data": {
      "text/plain": [
       "[15, 13]"
      ]
     },
     "execution_count": 230,
     "metadata": {},
     "output_type": "execute_result"
    }
   ],
   "source": [
    "list"
   ]
  },
  {
   "cell_type": "code",
   "execution_count": 231,
   "id": "078f8cc0",
   "metadata": {},
   "outputs": [],
   "source": [
    "if list[0] < list [1]:\n",
    "    error_rate = list[0] / len(train_y)\n",
    "elif list[0] > list[1]:\n",
    "        error_rate = list[1] / len(train_y)\n",
    "else:\n",
    "    error_rate = 0.5"
   ]
  },
  {
   "cell_type": "code",
   "execution_count": 232,
   "id": "872c88f8",
   "metadata": {},
   "outputs": [
    {
     "data": {
      "text/plain": [
       "0.4642857142857143"
      ]
     },
     "execution_count": 232,
     "metadata": {},
     "output_type": "execute_result"
    }
   ],
   "source": [
    "error_rate"
   ]
  },
  {
   "cell_type": "code",
   "execution_count": 233,
   "id": "c9aa1ce8",
   "metadata": {},
   "outputs": [
    {
     "data": {
      "text/plain": [
       "array([['n', 'y', 'democrat'],\n",
       "       ['n', 'y', 'republican'],\n",
       "       ['y', 'y', 'democrat'],\n",
       "       ['y', 'y', 'democrat'],\n",
       "       ['y', 'y', 'democrat'],\n",
       "       ['y', 'y', 'democrat'],\n",
       "       ['y', 'y', 'democrat'],\n",
       "       ['n', 'y', 'republican'],\n",
       "       ['y', 'y', 'democrat'],\n",
       "       ['n', 'n', 'republican'],\n",
       "       ['y', 'y', 'democrat'],\n",
       "       ['n', 'y', 'republican'],\n",
       "       ['y', 'y', 'democrat'],\n",
       "       ['n', 'n', 'republican'],\n",
       "       ['n', 'y', 'republican'],\n",
       "       ['n', 'n', 'republican'],\n",
       "       ['y', 'y', 'democrat'],\n",
       "       ['y', 'y', 'democrat'],\n",
       "       ['y', 'y', 'democrat'],\n",
       "       ['y', 'y', 'democrat'],\n",
       "       ['n', 'y', 'democrat'],\n",
       "       ['y', 'y', 'democrat'],\n",
       "       ['y', 'n', 'republican'],\n",
       "       ['n', 'n', 'republican'],\n",
       "       ['n', 'y', 'republican'],\n",
       "       ['n', 'y', 'republican'],\n",
       "       ['n', 'y', 'republican'],\n",
       "       ['n', 'n', 'republican']], dtype=object)"
      ]
     },
     "execution_count": 233,
     "metadata": {},
     "output_type": "execute_result"
    }
   ],
   "source": [
    "data_train"
   ]
  },
  {
   "cell_type": "code",
   "execution_count": 234,
   "id": "4fc8ae0d",
   "metadata": {},
   "outputs": [
    {
     "data": {
      "text/plain": [
       "array(['democrat', 'republican', 'democrat', 'democrat', 'democrat',\n",
       "       'democrat', 'democrat', 'republican', 'democrat', 'republican',\n",
       "       'democrat', 'republican', 'democrat', 'republican', 'republican',\n",
       "       'republican', 'democrat', 'democrat', 'democrat', 'democrat',\n",
       "       'democrat', 'democrat', 'republican', 'republican', 'republican',\n",
       "       'republican', 'republican', 'republican'], dtype=object)"
      ]
     },
     "execution_count": 234,
     "metadata": {},
     "output_type": "execute_result"
    }
   ],
   "source": [
    "train_x\n",
    "train_y"
   ]
  },
  {
   "cell_type": "code",
   "execution_count": 235,
   "id": "d31edc88",
   "metadata": {},
   "outputs": [
    {
     "data": {
      "text/plain": [
       "array([['n', 'y'],\n",
       "       ['n', 'y'],\n",
       "       ['y', 'y'],\n",
       "       ['y', 'y'],\n",
       "       ['y', 'y'],\n",
       "       ['y', 'y'],\n",
       "       ['y', 'y'],\n",
       "       ['n', 'y'],\n",
       "       ['y', 'y'],\n",
       "       ['n', 'n'],\n",
       "       ['y', 'y'],\n",
       "       ['n', 'y'],\n",
       "       ['y', 'y'],\n",
       "       ['n', 'n'],\n",
       "       ['n', 'y'],\n",
       "       ['n', 'n'],\n",
       "       ['y', 'y'],\n",
       "       ['y', 'y'],\n",
       "       ['y', 'y'],\n",
       "       ['y', 'y'],\n",
       "       ['n', 'y'],\n",
       "       ['y', 'y'],\n",
       "       ['y', 'n'],\n",
       "       ['n', 'n'],\n",
       "       ['n', 'y'],\n",
       "       ['n', 'y'],\n",
       "       ['n', 'y'],\n",
       "       ['n', 'n']], dtype=object)"
      ]
     },
     "execution_count": 235,
     "metadata": {},
     "output_type": "execute_result"
    }
   ],
   "source": [
    "train_x"
   ]
  },
  {
   "cell_type": "code",
   "execution_count": 236,
   "id": "58f15212",
   "metadata": {},
   "outputs": [],
   "source": [
    "bv = np.unique(train_x)"
   ]
  },
  {
   "cell_type": "code",
   "execution_count": 237,
   "id": "b83324f9",
   "metadata": {},
   "outputs": [
    {
     "data": {
      "text/plain": [
       "array(['n', 'y'], dtype=object)"
      ]
     },
     "execution_count": 237,
     "metadata": {},
     "output_type": "execute_result"
    }
   ],
   "source": [
    "bv"
   ]
  },
  {
   "cell_type": "code",
   "execution_count": 238,
   "id": "99b3e347",
   "metadata": {},
   "outputs": [],
   "source": [
    "map = {}"
   ]
  },
  {
   "cell_type": "code",
   "execution_count": 239,
   "id": "0dd4f0d5",
   "metadata": {},
   "outputs": [],
   "source": [
    "y_n = train_y[train_x[:, 0] == 'n']"
   ]
  },
  {
   "cell_type": "code",
   "execution_count": 240,
   "id": "174c6049",
   "metadata": {},
   "outputs": [
    {
     "data": {
      "text/plain": [
       "Counter({'democrat': 2, 'republican': 12})"
      ]
     },
     "execution_count": 240,
     "metadata": {},
     "output_type": "execute_result"
    }
   ],
   "source": [
    "Counter(y_n)"
   ]
  },
  {
   "cell_type": "code",
   "execution_count": 241,
   "id": "79042c5e",
   "metadata": {},
   "outputs": [
    {
     "data": {
      "text/plain": [
       "[('republican', 12)]"
      ]
     },
     "execution_count": 241,
     "metadata": {},
     "output_type": "execute_result"
    }
   ],
   "source": [
    "Counter(y_n).most_common(1)"
   ]
  },
  {
   "cell_type": "code",
   "execution_count": 242,
   "id": "914e5c44",
   "metadata": {},
   "outputs": [
    {
     "data": {
      "text/plain": [
       "'republican'"
      ]
     },
     "execution_count": 242,
     "metadata": {},
     "output_type": "execute_result"
    }
   ],
   "source": [
    "Counter(y_n).most_common(1)[0][0]"
   ]
  },
  {
   "cell_type": "code",
   "execution_count": 243,
   "id": "320e1ea0",
   "metadata": {},
   "outputs": [],
   "source": [
    "for i in bv:\n",
    "    map[i] = Counter(train_y[train_x[:,0] == i]).most_common(1)[0][0]"
   ]
  },
  {
   "cell_type": "code",
   "execution_count": 244,
   "id": "3dac8eb8",
   "metadata": {},
   "outputs": [
    {
     "data": {
      "text/plain": [
       "{'n': 'republican', 'y': 'democrat'}"
      ]
     },
     "execution_count": 244,
     "metadata": {},
     "output_type": "execute_result"
    }
   ],
   "source": [
    "map"
   ]
  },
  {
   "cell_type": "code",
   "execution_count": 245,
   "id": "4341dfb8",
   "metadata": {},
   "outputs": [],
   "source": [
    "y = []"
   ]
  },
  {
   "cell_type": "code",
   "execution_count": 246,
   "id": "e60622d2",
   "metadata": {},
   "outputs": [],
   "source": [
    "for row in train_x:\n",
    "    y.append(map[row[0]])"
   ]
  },
  {
   "cell_type": "code",
   "execution_count": 247,
   "id": "6f123593",
   "metadata": {},
   "outputs": [
    {
     "data": {
      "text/plain": [
       "{'n': 'republican', 'y': 'democrat'}"
      ]
     },
     "execution_count": 247,
     "metadata": {},
     "output_type": "execute_result"
    }
   ],
   "source": [
    "map"
   ]
  },
  {
   "cell_type": "code",
   "execution_count": 248,
   "id": "6436415f",
   "metadata": {},
   "outputs": [
    {
     "data": {
      "text/plain": [
       "['republican',\n",
       " 'republican',\n",
       " 'democrat',\n",
       " 'democrat',\n",
       " 'democrat',\n",
       " 'democrat',\n",
       " 'democrat',\n",
       " 'republican',\n",
       " 'democrat',\n",
       " 'republican',\n",
       " 'democrat',\n",
       " 'republican',\n",
       " 'democrat',\n",
       " 'republican',\n",
       " 'republican',\n",
       " 'republican',\n",
       " 'democrat',\n",
       " 'democrat',\n",
       " 'democrat',\n",
       " 'democrat',\n",
       " 'republican',\n",
       " 'democrat',\n",
       " 'democrat',\n",
       " 'republican',\n",
       " 'republican',\n",
       " 'republican',\n",
       " 'republican',\n",
       " 'republican']"
      ]
     },
     "execution_count": 248,
     "metadata": {},
     "output_type": "execute_result"
    }
   ],
   "source": [
    "y"
   ]
  },
  {
   "cell_type": "code",
   "execution_count": 249,
   "id": "6c92081b",
   "metadata": {},
   "outputs": [
    {
     "data": {
      "text/plain": [
       "array([['n', 'y'],\n",
       "       ['n', 'y'],\n",
       "       ['y', 'y'],\n",
       "       ['y', 'y'],\n",
       "       ['y', 'y'],\n",
       "       ['y', 'y'],\n",
       "       ['y', 'y'],\n",
       "       ['n', 'y'],\n",
       "       ['y', 'y'],\n",
       "       ['n', 'n'],\n",
       "       ['y', 'y'],\n",
       "       ['n', 'y'],\n",
       "       ['y', 'y'],\n",
       "       ['n', 'n'],\n",
       "       ['n', 'y'],\n",
       "       ['n', 'n'],\n",
       "       ['y', 'y'],\n",
       "       ['y', 'y'],\n",
       "       ['y', 'y'],\n",
       "       ['y', 'y'],\n",
       "       ['n', 'y'],\n",
       "       ['y', 'y'],\n",
       "       ['y', 'n'],\n",
       "       ['n', 'n'],\n",
       "       ['n', 'y'],\n",
       "       ['n', 'y'],\n",
       "       ['n', 'y'],\n",
       "       ['n', 'n']], dtype=object)"
      ]
     },
     "execution_count": 249,
     "metadata": {},
     "output_type": "execute_result"
    }
   ],
   "source": [
    "train_x"
   ]
  },
  {
   "cell_type": "code",
   "execution_count": 250,
   "id": "9088d82d",
   "metadata": {},
   "outputs": [],
   "source": [
    "x = train_x"
   ]
  },
  {
   "cell_type": "code",
   "execution_count": 251,
   "id": "a184fc15",
   "metadata": {},
   "outputs": [
    {
     "data": {
      "text/plain": [
       "array([['n', 'y'],\n",
       "       ['n', 'y'],\n",
       "       ['y', 'y'],\n",
       "       ['y', 'y'],\n",
       "       ['y', 'y'],\n",
       "       ['y', 'y'],\n",
       "       ['y', 'y'],\n",
       "       ['n', 'y'],\n",
       "       ['y', 'y'],\n",
       "       ['n', 'n'],\n",
       "       ['y', 'y'],\n",
       "       ['n', 'y'],\n",
       "       ['y', 'y'],\n",
       "       ['n', 'n'],\n",
       "       ['n', 'y'],\n",
       "       ['n', 'n'],\n",
       "       ['y', 'y'],\n",
       "       ['y', 'y'],\n",
       "       ['y', 'y'],\n",
       "       ['y', 'y'],\n",
       "       ['n', 'y'],\n",
       "       ['y', 'y'],\n",
       "       ['y', 'n'],\n",
       "       ['n', 'n'],\n",
       "       ['n', 'y'],\n",
       "       ['n', 'y'],\n",
       "       ['n', 'y'],\n",
       "       ['n', 'n']], dtype=object)"
      ]
     },
     "execution_count": 251,
     "metadata": {},
     "output_type": "execute_result"
    }
   ],
   "source": [
    "x"
   ]
  },
  {
   "cell_type": "code",
   "execution_count": 252,
   "id": "5e25ee43",
   "metadata": {},
   "outputs": [
    {
     "data": {
      "text/plain": [
       "array(['n', 'n', 'y', 'y', 'y', 'y', 'y', 'n', 'y', 'n', 'y', 'n', 'y',\n",
       "       'n', 'n', 'n', 'y', 'y', 'y', 'y', 'n', 'y', 'y', 'n', 'n', 'n',\n",
       "       'n', 'n'], dtype=object)"
      ]
     },
     "execution_count": 252,
     "metadata": {},
     "output_type": "execute_result"
    }
   ],
   "source": [
    "x[:, 0]"
   ]
  },
  {
   "cell_type": "code",
   "execution_count": 253,
   "id": "e2f0bf34",
   "metadata": {},
   "outputs": [
    {
     "data": {
      "text/plain": [
       "{'n', 'y'}"
      ]
     },
     "execution_count": 253,
     "metadata": {},
     "output_type": "execute_result"
    }
   ],
   "source": [
    "set(x[:,0])"
   ]
  },
  {
   "cell_type": "code",
   "execution_count": 254,
   "id": "02966cd6",
   "metadata": {},
   "outputs": [
    {
     "name": "stdout",
     "output_type": "stream",
     "text": [
      "[['n' 'y']\n",
      " ['n' 'y']\n",
      " ['n' 'y']\n",
      " ['n' 'n']\n",
      " ['n' 'y']\n",
      " ['n' 'n']\n",
      " ['n' 'y']\n",
      " ['n' 'n']\n",
      " ['n' 'y']\n",
      " ['n' 'n']\n",
      " ['n' 'y']\n",
      " ['n' 'y']\n",
      " ['n' 'y']\n",
      " ['n' 'n']]\n",
      "[['y' 'y']\n",
      " ['y' 'y']\n",
      " ['y' 'y']\n",
      " ['y' 'y']\n",
      " ['y' 'y']\n",
      " ['y' 'y']\n",
      " ['y' 'y']\n",
      " ['y' 'y']\n",
      " ['y' 'y']\n",
      " ['y' 'y']\n",
      " ['y' 'y']\n",
      " ['y' 'y']\n",
      " ['y' 'y']\n",
      " ['y' 'n']]\n"
     ]
    }
   ],
   "source": [
    "for val in set(x[:,0]):\n",
    "    x_x = x[x[:,0] == val]\n",
    "    print(x_x)"
   ]
  },
  {
   "cell_type": "code",
   "execution_count": 255,
   "id": "5a976b09",
   "metadata": {},
   "outputs": [],
   "source": [
    "def get_entropy(y):\n",
    "    labelCounter = Counter(y)\n",
    "    entropy = 0.0\n",
    "    for val in labelCounter:\n",
    "        prob = labelCounter[val] / len(y)\n",
    "        entropy -= prob * np.log2(prob)\n",
    "    return entropy"
   ]
  },
  {
   "cell_type": "code",
   "execution_count": 256,
   "id": "ae392ace",
   "metadata": {},
   "outputs": [],
   "source": [
    "old_e = get_entropy(train_y)"
   ]
  },
  {
   "cell_type": "code",
   "execution_count": 257,
   "id": "5572f499",
   "metadata": {},
   "outputs": [],
   "source": [
    "M, N = x.shape"
   ]
  },
  {
   "cell_type": "code",
   "execution_count": 258,
   "id": "6973c08a",
   "metadata": {},
   "outputs": [
    {
     "data": {
      "text/plain": [
       "2"
      ]
     },
     "execution_count": 258,
     "metadata": {},
     "output_type": "execute_result"
    }
   ],
   "source": [
    "N"
   ]
  },
  {
   "cell_type": "code",
   "execution_count": 259,
   "id": "4fcf8fa3",
   "metadata": {},
   "outputs": [
    {
     "data": {
      "text/plain": [
       "28"
      ]
     },
     "execution_count": 259,
     "metadata": {},
     "output_type": "execute_result"
    }
   ],
   "source": [
    "M"
   ]
  },
  {
   "cell_type": "code",
   "execution_count": 260,
   "id": "8ecfe8bd",
   "metadata": {},
   "outputs": [],
   "source": [
    "ig = [old_e for _ in range(2)]"
   ]
  },
  {
   "cell_type": "code",
   "execution_count": 261,
   "id": "44027c25",
   "metadata": {},
   "outputs": [
    {
     "data": {
      "text/plain": [
       "[0.996316519558962, 0.996316519558962]"
      ]
     },
     "execution_count": 261,
     "metadata": {},
     "output_type": "execute_result"
    }
   ],
   "source": [
    "ig"
   ]
  },
  {
   "cell_type": "code",
   "execution_count": 262,
   "id": "64d25130",
   "metadata": {},
   "outputs": [],
   "source": [
    "col = x[:, 0]"
   ]
  },
  {
   "cell_type": "code",
   "execution_count": 263,
   "id": "1d8a5d77",
   "metadata": {},
   "outputs": [
    {
     "data": {
      "text/plain": [
       "array(['n', 'n', 'y', 'y', 'y', 'y', 'y', 'n', 'y', 'n', 'y', 'n', 'y',\n",
       "       'n', 'n', 'n', 'y', 'y', 'y', 'y', 'n', 'y', 'y', 'n', 'n', 'n',\n",
       "       'n', 'n'], dtype=object)"
      ]
     },
     "execution_count": 263,
     "metadata": {},
     "output_type": "execute_result"
    }
   ],
   "source": [
    "col"
   ]
  },
  {
   "cell_type": "code",
   "execution_count": 264,
   "id": "9abffd78",
   "metadata": {},
   "outputs": [],
   "source": [
    "bv = np.unique(col)"
   ]
  },
  {
   "cell_type": "code",
   "execution_count": 265,
   "id": "0b9940a3",
   "metadata": {},
   "outputs": [
    {
     "data": {
      "text/plain": [
       "array(['n', 'y'], dtype=object)"
      ]
     },
     "execution_count": 265,
     "metadata": {},
     "output_type": "execute_result"
    }
   ],
   "source": [
    "bv"
   ]
  },
  {
   "cell_type": "code",
   "execution_count": 266,
   "id": "b351f9a2",
   "metadata": {},
   "outputs": [
    {
     "data": {
      "text/plain": [
       "{'n', 'y'}"
      ]
     },
     "execution_count": 266,
     "metadata": {},
     "output_type": "execute_result"
    }
   ],
   "source": [
    "set(col)"
   ]
  },
  {
   "cell_type": "code",
   "execution_count": 267,
   "id": "4d3a8721",
   "metadata": {},
   "outputs": [],
   "source": [
    "y = train_y"
   ]
  },
  {
   "cell_type": "code",
   "execution_count": 268,
   "id": "c6b85534",
   "metadata": {},
   "outputs": [
    {
     "data": {
      "text/plain": [
       "array(['democrat', 'republican', 'democrat', 'democrat', 'democrat',\n",
       "       'democrat', 'democrat', 'republican', 'democrat', 'republican',\n",
       "       'democrat', 'republican', 'democrat', 'republican', 'republican',\n",
       "       'republican', 'democrat', 'democrat', 'democrat', 'democrat',\n",
       "       'democrat', 'democrat', 'republican', 'republican', 'republican',\n",
       "       'republican', 'republican', 'republican'], dtype=object)"
      ]
     },
     "execution_count": 268,
     "metadata": {},
     "output_type": "execute_result"
    }
   ],
   "source": [
    "y"
   ]
  },
  {
   "cell_type": "code",
   "execution_count": 269,
   "id": "0357a7ae",
   "metadata": {},
   "outputs": [],
   "source": [
    "y_hat = y[col=='n']"
   ]
  },
  {
   "cell_type": "code",
   "execution_count": 270,
   "id": "e442933b",
   "metadata": {},
   "outputs": [
    {
     "data": {
      "text/plain": [
       "array(['democrat', 'republican', 'republican', 'republican', 'republican',\n",
       "       'republican', 'republican', 'republican', 'democrat', 'republican',\n",
       "       'republican', 'republican', 'republican', 'republican'],\n",
       "      dtype=object)"
      ]
     },
     "execution_count": 270,
     "metadata": {},
     "output_type": "execute_result"
    }
   ],
   "source": [
    "y_hat"
   ]
  },
  {
   "cell_type": "code",
   "execution_count": 271,
   "id": "3abd3d29",
   "metadata": {},
   "outputs": [],
   "source": [
    "for i in range(N):\n",
    "    col = x[:, i]\n",
    "    for val in set(col):\n",
    "        y_hat = y[col == val]\n",
    "        ig[i] -= get_entropy(y_hat) * len(y_hat) / len(y)"
   ]
  },
  {
   "cell_type": "code",
   "execution_count": 272,
   "id": "59b17ee6",
   "metadata": {},
   "outputs": [
    {
     "data": {
      "text/plain": [
       "[0.5148639669473605, 0.2872932259343359]"
      ]
     },
     "execution_count": 272,
     "metadata": {},
     "output_type": "execute_result"
    }
   ],
   "source": [
    "ig"
   ]
  },
  {
   "cell_type": "code",
   "execution_count": 273,
   "id": "811a1916",
   "metadata": {},
   "outputs": [
    {
     "data": {
      "text/plain": [
       "0.996316519558962"
      ]
     },
     "execution_count": 273,
     "metadata": {},
     "output_type": "execute_result"
    }
   ],
   "source": [
    "old_e"
   ]
  },
  {
   "cell_type": "code",
   "execution_count": 274,
   "id": "20f7b80d",
   "metadata": {},
   "outputs": [],
   "source": [
    "ig = [old_e for _ in range(N)]"
   ]
  },
  {
   "cell_type": "code",
   "execution_count": 275,
   "id": "0023c005",
   "metadata": {},
   "outputs": [
    {
     "data": {
      "text/plain": [
       "[0.996316519558962, 0.996316519558962]"
      ]
     },
     "execution_count": 275,
     "metadata": {},
     "output_type": "execute_result"
    }
   ],
   "source": [
    "ig"
   ]
  },
  {
   "cell_type": "code",
   "execution_count": 276,
   "id": "e829ae07",
   "metadata": {},
   "outputs": [],
   "source": [
    "for i in range(N):\n",
    "    col = x[:, i]\n",
    "    for val in np.unique(col):\n",
    "        y_hat = y[col == val]\n",
    "        ig[i] = ig[i] - get_entropy(y_hat) * len(y_hat) / len(y)"
   ]
  },
  {
   "cell_type": "code",
   "execution_count": 277,
   "id": "b06bf514",
   "metadata": {},
   "outputs": [
    {
     "data": {
      "text/plain": [
       "array(['y', 'y', 'y', 'y', 'y', 'y', 'y', 'y', 'y', 'n', 'y', 'y', 'y',\n",
       "       'n', 'y', 'n', 'y', 'y', 'y', 'y', 'y', 'y', 'n', 'n', 'y', 'y',\n",
       "       'y', 'n'], dtype=object)"
      ]
     },
     "execution_count": 277,
     "metadata": {},
     "output_type": "execute_result"
    }
   ],
   "source": [
    "col"
   ]
  },
  {
   "cell_type": "code",
   "execution_count": 278,
   "id": "831864de",
   "metadata": {},
   "outputs": [],
   "source": [
    "bv = np.unique(col)"
   ]
  },
  {
   "cell_type": "code",
   "execution_count": 279,
   "id": "774afbf8",
   "metadata": {},
   "outputs": [
    {
     "data": {
      "text/plain": [
       "array(['n', 'y'], dtype=object)"
      ]
     },
     "execution_count": 279,
     "metadata": {},
     "output_type": "execute_result"
    }
   ],
   "source": [
    "bv"
   ]
  },
  {
   "cell_type": "code",
   "execution_count": 280,
   "id": "c5e7501b",
   "metadata": {},
   "outputs": [],
   "source": [
    "for val in bv:\n",
    "    y_hat = y[col == val]"
   ]
  },
  {
   "cell_type": "code",
   "execution_count": 281,
   "id": "16993813",
   "metadata": {},
   "outputs": [
    {
     "data": {
      "text/plain": [
       "array(['democrat', 'republican', 'democrat', 'democrat', 'democrat',\n",
       "       'democrat', 'democrat', 'republican', 'democrat', 'democrat',\n",
       "       'republican', 'democrat', 'republican', 'democrat', 'democrat',\n",
       "       'democrat', 'democrat', 'democrat', 'democrat', 'republican',\n",
       "       'republican', 'republican'], dtype=object)"
      ]
     },
     "execution_count": 281,
     "metadata": {},
     "output_type": "execute_result"
    }
   ],
   "source": [
    "y_hat"
   ]
  },
  {
   "cell_type": "code",
   "execution_count": 282,
   "id": "8f13c2ff",
   "metadata": {},
   "outputs": [
    {
     "data": {
      "text/plain": [
       "0.9023932827949788"
      ]
     },
     "execution_count": 282,
     "metadata": {},
     "output_type": "execute_result"
    }
   ],
   "source": [
    "get_entropy(y_hat)"
   ]
  },
  {
   "cell_type": "code",
   "execution_count": 283,
   "id": "713a6629",
   "metadata": {},
   "outputs": [
    {
     "data": {
      "text/plain": [
       "22"
      ]
     },
     "execution_count": 283,
     "metadata": {},
     "output_type": "execute_result"
    }
   ],
   "source": [
    "len(y_hat)"
   ]
  },
  {
   "cell_type": "code",
   "execution_count": 284,
   "id": "532d1c49",
   "metadata": {},
   "outputs": [
    {
     "data": {
      "text/plain": [
       "28"
      ]
     },
     "execution_count": 284,
     "metadata": {},
     "output_type": "execute_result"
    }
   ],
   "source": [
    "len(y)"
   ]
  },
  {
   "cell_type": "code",
   "execution_count": 285,
   "id": "f189be57",
   "metadata": {},
   "outputs": [
    {
     "data": {
      "text/plain": [
       "array(['y', 'y', 'y', 'y', 'y', 'y', 'y', 'y', 'y', 'n', 'y', 'y', 'y',\n",
       "       'n', 'y', 'n', 'y', 'y', 'y', 'y', 'y', 'y', 'n', 'n', 'y', 'y',\n",
       "       'y', 'n'], dtype=object)"
      ]
     },
     "execution_count": 285,
     "metadata": {},
     "output_type": "execute_result"
    }
   ],
   "source": [
    "x[:,1]"
   ]
  },
  {
   "cell_type": "code",
   "execution_count": 286,
   "id": "2d42cb24",
   "metadata": {},
   "outputs": [
    {
     "data": {
      "text/plain": [
       "array(['y', 'y', 'y', 'y', 'y', 'y', 'y', 'y', 'y', 'n', 'y', 'y', 'y',\n",
       "       'n', 'y', 'n', 'y', 'y', 'y', 'y', 'y', 'y', 'n', 'n', 'y', 'y',\n",
       "       'y', 'n'], dtype=object)"
      ]
     },
     "execution_count": 286,
     "metadata": {},
     "output_type": "execute_result"
    }
   ],
   "source": [
    "col"
   ]
  },
  {
   "cell_type": "code",
   "execution_count": 287,
   "id": "ae128da4",
   "metadata": {},
   "outputs": [
    {
     "data": {
      "text/plain": [
       "array(['democrat', 'republican', 'democrat', 'democrat', 'democrat',\n",
       "       'democrat', 'democrat', 'republican', 'democrat', 'democrat',\n",
       "       'republican', 'democrat', 'republican', 'democrat', 'democrat',\n",
       "       'democrat', 'democrat', 'democrat', 'democrat', 'republican',\n",
       "       'republican', 'republican'], dtype=object)"
      ]
     },
     "execution_count": 287,
     "metadata": {},
     "output_type": "execute_result"
    }
   ],
   "source": [
    "y[col == 'y']"
   ]
  },
  {
   "cell_type": "code",
   "execution_count": 288,
   "id": "f02a9a93",
   "metadata": {},
   "outputs": [],
   "source": [
    "col_entropy = 0\n",
    "for val in set(x[:,0]):\n",
    "    x_split = y[x[:,0]==val]\n",
    "    prob = len(x_split) / len(x)\n",
    "    entropy = get_entropy(x_split)\n",
    "    col_entropy = col_entropy + entropy"
   ]
  },
  {
   "cell_type": "code",
   "execution_count": 289,
   "id": "7c59b6bb",
   "metadata": {},
   "outputs": [],
   "source": [
    "y_n = y[x[:,0] == 'n']"
   ]
  },
  {
   "cell_type": "code",
   "execution_count": 290,
   "id": "fe26161e",
   "metadata": {},
   "outputs": [
    {
     "data": {
      "text/plain": [
       "14"
      ]
     },
     "execution_count": 290,
     "metadata": {},
     "output_type": "execute_result"
    }
   ],
   "source": [
    "len(y_n)"
   ]
  },
  {
   "cell_type": "code",
   "execution_count": 291,
   "id": "6dc3dbd1",
   "metadata": {},
   "outputs": [],
   "source": [
    "y_y= y[x[:, 0] == 'y']"
   ]
  },
  {
   "cell_type": "code",
   "execution_count": 292,
   "id": "d48d3e94",
   "metadata": {},
   "outputs": [
    {
     "data": {
      "text/plain": [
       "array(['democrat', 'democrat', 'democrat', 'democrat', 'democrat',\n",
       "       'democrat', 'democrat', 'democrat', 'democrat', 'democrat',\n",
       "       'democrat', 'democrat', 'democrat', 'republican'], dtype=object)"
      ]
     },
     "execution_count": 292,
     "metadata": {},
     "output_type": "execute_result"
    }
   ],
   "source": [
    "y_y"
   ]
  },
  {
   "cell_type": "code",
   "execution_count": 293,
   "id": "58d2df41",
   "metadata": {},
   "outputs": [
    {
     "data": {
      "text/plain": [
       "Counter({'democrat': 2, 'republican': 12})"
      ]
     },
     "execution_count": 293,
     "metadata": {},
     "output_type": "execute_result"
    }
   ],
   "source": [
    "Counter(y_n)"
   ]
  },
  {
   "cell_type": "code",
   "execution_count": 294,
   "id": "f6bd4d73",
   "metadata": {},
   "outputs": [
    {
     "data": {
      "text/plain": [
       "Counter({'democrat': 13, 'republican': 1})"
      ]
     },
     "execution_count": 294,
     "metadata": {},
     "output_type": "execute_result"
    }
   ],
   "source": [
    "Counter(y_y)"
   ]
  },
  {
   "cell_type": "code",
   "execution_count": 295,
   "id": "4b48e9b7",
   "metadata": {},
   "outputs": [
    {
     "data": {
      "text/plain": [
       "0.37123232664087563"
      ]
     },
     "execution_count": 295,
     "metadata": {},
     "output_type": "execute_result"
    }
   ],
   "source": [
    "get_entropy(y_y)"
   ]
  },
  {
   "cell_type": "code",
   "execution_count": 296,
   "id": "f853aeb5",
   "metadata": {},
   "outputs": [
    {
     "data": {
      "text/plain": [
       "array(['n', 'n', 'y', 'y', 'y', 'y', 'y', 'n', 'y', 'n', 'y', 'n', 'y',\n",
       "       'n', 'n', 'n', 'y', 'y', 'y', 'y', 'n', 'y', 'y', 'n', 'n', 'n',\n",
       "       'n', 'n'], dtype=object)"
      ]
     },
     "execution_count": 296,
     "metadata": {},
     "output_type": "execute_result"
    }
   ],
   "source": [
    "x[:, 0]"
   ]
  },
  {
   "cell_type": "code",
   "execution_count": 298,
   "id": "dbd3481a",
   "metadata": {},
   "outputs": [],
   "source": [
    "bv=np.unique(x[:, 0])"
   ]
  },
  {
   "cell_type": "code",
   "execution_count": 315,
   "id": "424f1ac3",
   "metadata": {},
   "outputs": [],
   "source": [
    "y_split=y[x[:,0]=='n']"
   ]
  },
  {
   "cell_type": "code",
   "execution_count": 312,
   "id": "e70575dd",
   "metadata": {},
   "outputs": [
    {
     "data": {
      "text/plain": [
       "array([['n', 'y'],\n",
       "       ['n', 'y'],\n",
       "       ['n', 'y'],\n",
       "       ['n', 'n'],\n",
       "       ['n', 'y'],\n",
       "       ['n', 'n'],\n",
       "       ['n', 'y'],\n",
       "       ['n', 'n'],\n",
       "       ['n', 'y'],\n",
       "       ['n', 'n'],\n",
       "       ['n', 'y'],\n",
       "       ['n', 'y'],\n",
       "       ['n', 'y'],\n",
       "       ['n', 'n']], dtype=object)"
      ]
     },
     "execution_count": 312,
     "metadata": {},
     "output_type": "execute_result"
    }
   ],
   "source": [
    "x_split"
   ]
  },
  {
   "cell_type": "code",
   "execution_count": 310,
   "id": "5543e411",
   "metadata": {},
   "outputs": [
    {
     "data": {
      "text/plain": [
       "14"
      ]
     },
     "execution_count": 310,
     "metadata": {},
     "output_type": "execute_result"
    }
   ],
   "source": [
    "len(x_split)"
   ]
  },
  {
   "cell_type": "code",
   "execution_count": 313,
   "id": "588e9cf8",
   "metadata": {},
   "outputs": [
    {
     "ename": "TypeError",
     "evalue": "unhashable type: 'numpy.ndarray'",
     "output_type": "error",
     "traceback": [
      "\u001b[0;31m---------------------------------------------------------------------------\u001b[0m",
      "\u001b[0;31mTypeError\u001b[0m                                 Traceback (most recent call last)",
      "\u001b[0;32m<ipython-input-313-0790d7872007>\u001b[0m in \u001b[0;36m<module>\u001b[0;34m\u001b[0m\n\u001b[0;32m----> 1\u001b[0;31m \u001b[0mget_entropy\u001b[0m\u001b[0;34m(\u001b[0m\u001b[0mx_split\u001b[0m\u001b[0;34m)\u001b[0m\u001b[0;34m\u001b[0m\u001b[0;34m\u001b[0m\u001b[0m\n\u001b[0m",
      "\u001b[0;32m<ipython-input-255-62491532e830>\u001b[0m in \u001b[0;36mget_entropy\u001b[0;34m(y)\u001b[0m\n\u001b[1;32m      1\u001b[0m \u001b[0;32mdef\u001b[0m \u001b[0mget_entropy\u001b[0m\u001b[0;34m(\u001b[0m\u001b[0my\u001b[0m\u001b[0;34m)\u001b[0m\u001b[0;34m:\u001b[0m\u001b[0;34m\u001b[0m\u001b[0;34m\u001b[0m\u001b[0m\n\u001b[0;32m----> 2\u001b[0;31m     \u001b[0mlabelCounter\u001b[0m \u001b[0;34m=\u001b[0m \u001b[0mCounter\u001b[0m\u001b[0;34m(\u001b[0m\u001b[0my\u001b[0m\u001b[0;34m)\u001b[0m\u001b[0;34m\u001b[0m\u001b[0;34m\u001b[0m\u001b[0m\n\u001b[0m\u001b[1;32m      3\u001b[0m     \u001b[0mentropy\u001b[0m \u001b[0;34m=\u001b[0m \u001b[0;36m0.0\u001b[0m\u001b[0;34m\u001b[0m\u001b[0;34m\u001b[0m\u001b[0m\n\u001b[1;32m      4\u001b[0m     \u001b[0;32mfor\u001b[0m \u001b[0mval\u001b[0m \u001b[0;32min\u001b[0m \u001b[0mlabelCounter\u001b[0m\u001b[0;34m:\u001b[0m\u001b[0;34m\u001b[0m\u001b[0;34m\u001b[0m\u001b[0m\n\u001b[1;32m      5\u001b[0m         \u001b[0mprob\u001b[0m \u001b[0;34m=\u001b[0m \u001b[0mlabelCounter\u001b[0m\u001b[0;34m[\u001b[0m\u001b[0mval\u001b[0m\u001b[0;34m]\u001b[0m \u001b[0;34m/\u001b[0m \u001b[0mlen\u001b[0m\u001b[0;34m(\u001b[0m\u001b[0my\u001b[0m\u001b[0;34m)\u001b[0m\u001b[0;34m\u001b[0m\u001b[0;34m\u001b[0m\u001b[0m\n",
      "\u001b[0;32m~/opt/anaconda3/lib/python3.8/collections/__init__.py\u001b[0m in \u001b[0;36m__init__\u001b[0;34m(self, iterable, **kwds)\u001b[0m\n\u001b[1;32m    550\u001b[0m         '''\n\u001b[1;32m    551\u001b[0m         \u001b[0msuper\u001b[0m\u001b[0;34m(\u001b[0m\u001b[0mCounter\u001b[0m\u001b[0;34m,\u001b[0m \u001b[0mself\u001b[0m\u001b[0;34m)\u001b[0m\u001b[0;34m.\u001b[0m\u001b[0m__init__\u001b[0m\u001b[0;34m(\u001b[0m\u001b[0;34m)\u001b[0m\u001b[0;34m\u001b[0m\u001b[0;34m\u001b[0m\u001b[0m\n\u001b[0;32m--> 552\u001b[0;31m         \u001b[0mself\u001b[0m\u001b[0;34m.\u001b[0m\u001b[0mupdate\u001b[0m\u001b[0;34m(\u001b[0m\u001b[0miterable\u001b[0m\u001b[0;34m,\u001b[0m \u001b[0;34m**\u001b[0m\u001b[0mkwds\u001b[0m\u001b[0;34m)\u001b[0m\u001b[0;34m\u001b[0m\u001b[0;34m\u001b[0m\u001b[0m\n\u001b[0m\u001b[1;32m    553\u001b[0m \u001b[0;34m\u001b[0m\u001b[0m\n\u001b[1;32m    554\u001b[0m     \u001b[0;32mdef\u001b[0m \u001b[0m__missing__\u001b[0m\u001b[0;34m(\u001b[0m\u001b[0mself\u001b[0m\u001b[0;34m,\u001b[0m \u001b[0mkey\u001b[0m\u001b[0;34m)\u001b[0m\u001b[0;34m:\u001b[0m\u001b[0;34m\u001b[0m\u001b[0;34m\u001b[0m\u001b[0m\n",
      "\u001b[0;32m~/opt/anaconda3/lib/python3.8/collections/__init__.py\u001b[0m in \u001b[0;36mupdate\u001b[0;34m(self, iterable, **kwds)\u001b[0m\n\u001b[1;32m    635\u001b[0m                     \u001b[0msuper\u001b[0m\u001b[0;34m(\u001b[0m\u001b[0mCounter\u001b[0m\u001b[0;34m,\u001b[0m \u001b[0mself\u001b[0m\u001b[0;34m)\u001b[0m\u001b[0;34m.\u001b[0m\u001b[0mupdate\u001b[0m\u001b[0;34m(\u001b[0m\u001b[0miterable\u001b[0m\u001b[0;34m)\u001b[0m \u001b[0;31m# fast path when counter is empty\u001b[0m\u001b[0;34m\u001b[0m\u001b[0;34m\u001b[0m\u001b[0m\n\u001b[1;32m    636\u001b[0m             \u001b[0;32melse\u001b[0m\u001b[0;34m:\u001b[0m\u001b[0;34m\u001b[0m\u001b[0;34m\u001b[0m\u001b[0m\n\u001b[0;32m--> 637\u001b[0;31m                 \u001b[0m_count_elements\u001b[0m\u001b[0;34m(\u001b[0m\u001b[0mself\u001b[0m\u001b[0;34m,\u001b[0m \u001b[0miterable\u001b[0m\u001b[0;34m)\u001b[0m\u001b[0;34m\u001b[0m\u001b[0;34m\u001b[0m\u001b[0m\n\u001b[0m\u001b[1;32m    638\u001b[0m         \u001b[0;32mif\u001b[0m \u001b[0mkwds\u001b[0m\u001b[0;34m:\u001b[0m\u001b[0;34m\u001b[0m\u001b[0;34m\u001b[0m\u001b[0m\n\u001b[1;32m    639\u001b[0m             \u001b[0mself\u001b[0m\u001b[0;34m.\u001b[0m\u001b[0mupdate\u001b[0m\u001b[0;34m(\u001b[0m\u001b[0mkwds\u001b[0m\u001b[0;34m)\u001b[0m\u001b[0;34m\u001b[0m\u001b[0;34m\u001b[0m\u001b[0m\n",
      "\u001b[0;31mTypeError\u001b[0m: unhashable type: 'numpy.ndarray'"
     ]
    }
   ],
   "source": [
    "get_entropy(x_split)"
   ]
  },
  {
   "cell_type": "code",
   "execution_count": 316,
   "id": "56907fb4",
   "metadata": {},
   "outputs": [],
   "source": [
    "old_e = get_entropy(y)"
   ]
  },
  {
   "cell_type": "code",
   "execution_count": 317,
   "id": "34c69cd9",
   "metadata": {},
   "outputs": [
    {
     "data": {
      "text/plain": [
       "0.996316519558962"
      ]
     },
     "execution_count": 317,
     "metadata": {},
     "output_type": "execute_result"
    }
   ],
   "source": [
    "old_e"
   ]
  },
  {
   "cell_type": "code",
   "execution_count": 319,
   "id": "f25b6bd7",
   "metadata": {},
   "outputs": [],
   "source": [
    "IG = [old_e for _ in range(N)]"
   ]
  },
  {
   "cell_type": "code",
   "execution_count": 320,
   "id": "623c940c",
   "metadata": {},
   "outputs": [
    {
     "data": {
      "text/plain": [
       "[0.996316519558962, 0.996316519558962]"
      ]
     },
     "execution_count": 320,
     "metadata": {},
     "output_type": "execute_result"
    }
   ],
   "source": [
    "IG"
   ]
  },
  {
   "cell_type": "code",
   "execution_count": 321,
   "id": "f2ed071a",
   "metadata": {},
   "outputs": [
    {
     "data": {
      "text/plain": [
       "array(['n', 'n', 'y', 'y', 'y', 'y', 'y', 'n', 'y', 'n', 'y', 'n', 'y',\n",
       "       'n', 'n', 'n', 'y', 'y', 'y', 'y', 'n', 'y', 'y', 'n', 'n', 'n',\n",
       "       'n', 'n'], dtype=object)"
      ]
     },
     "execution_count": 321,
     "metadata": {},
     "output_type": "execute_result"
    }
   ],
   "source": [
    "x[:,0]"
   ]
  },
  {
   "cell_type": "code",
   "execution_count": 324,
   "id": "d3f899d7",
   "metadata": {},
   "outputs": [],
   "source": [
    "y_split = y[col == 'y']"
   ]
  },
  {
   "cell_type": "code",
   "execution_count": 325,
   "id": "d2192ce6",
   "metadata": {},
   "outputs": [
    {
     "data": {
      "text/plain": [
       "array(['democrat', 'republican', 'democrat', 'democrat', 'democrat',\n",
       "       'democrat', 'democrat', 'republican', 'democrat', 'democrat',\n",
       "       'republican', 'democrat', 'republican', 'democrat', 'democrat',\n",
       "       'democrat', 'democrat', 'democrat', 'democrat', 'republican',\n",
       "       'republican', 'republican'], dtype=object)"
      ]
     },
     "execution_count": 325,
     "metadata": {},
     "output_type": "execute_result"
    }
   ],
   "source": [
    "y_split"
   ]
  },
  {
   "cell_type": "code",
   "execution_count": 327,
   "id": "7d9c9343",
   "metadata": {},
   "outputs": [],
   "source": [
    "    def info_gain(x, y):\n",
    "        M, N = x.shape\n",
    "\n",
    "        old_entropy = get_entropy(y)\n",
    "        IG = [old_entropy for _ in range(N)]\n",
    "\n",
    "        for i in range(N):\n",
    "            col = x[:, i]\n",
    "            binary_values = np.unique(col)\n",
    "            for bv in binary_values:\n",
    "                y_hat = y[col == bv]\n",
    "                IG[i] -= get_entropy(y_hat) * len(y_hat) / len(y)\n",
    "\n",
    "        return IG"
   ]
  },
  {
   "cell_type": "code",
   "execution_count": 333,
   "id": "bda594a6",
   "metadata": {},
   "outputs": [],
   "source": [
    "gain = info_gain(x,y)"
   ]
  },
  {
   "cell_type": "code",
   "execution_count": 334,
   "id": "d5c7bd23",
   "metadata": {},
   "outputs": [
    {
     "data": {
      "text/plain": [
       "0.5148639669473605"
      ]
     },
     "execution_count": 334,
     "metadata": {},
     "output_type": "execute_result"
    }
   ],
   "source": [
    "max(gain)"
   ]
  },
  {
   "cell_type": "code",
   "execution_count": 336,
   "id": "a015ae68",
   "metadata": {},
   "outputs": [],
   "source": [
    "index = gain.index(max(gain))"
   ]
  },
  {
   "cell_type": "code",
   "execution_count": 337,
   "id": "d416c5cc",
   "metadata": {},
   "outputs": [
    {
     "data": {
      "text/plain": [
       "0"
      ]
     },
     "execution_count": 337,
     "metadata": {},
     "output_type": "execute_result"
    }
   ],
   "source": [
    "index"
   ]
  },
  {
   "cell_type": "code",
   "execution_count": null,
   "id": "8b06c516",
   "metadata": {},
   "outputs": [],
   "source": []
  }
 ],
 "metadata": {
  "kernelspec": {
   "display_name": "Python 3",
   "language": "python",
   "name": "python3"
  },
  "language_info": {
   "codemirror_mode": {
    "name": "ipython",
    "version": 3
   },
   "file_extension": ".py",
   "mimetype": "text/x-python",
   "name": "python",
   "nbconvert_exporter": "python",
   "pygments_lexer": "ipython3",
   "version": "3.8.8"
  }
 },
 "nbformat": 4,
 "nbformat_minor": 5
}
