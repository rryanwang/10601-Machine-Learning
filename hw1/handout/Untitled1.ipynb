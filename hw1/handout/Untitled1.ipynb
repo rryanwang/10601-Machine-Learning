{
 "cells": [
  {
   "cell_type": "code",
   "execution_count": 40,
   "id": "9dc6e04a",
   "metadata": {},
   "outputs": [],
   "source": [
    "import numpy as np\n",
    "import pandas as pd\n",
    "import math\n",
    "from collections import Counter"
   ]
  },
  {
   "cell_type": "code",
   "execution_count": 2,
   "id": "1f958f68",
   "metadata": {},
   "outputs": [],
   "source": [
    "infile = 'small_train.tsv'"
   ]
  },
  {
   "cell_type": "code",
   "execution_count": 4,
   "id": "aff51d7c",
   "metadata": {},
   "outputs": [],
   "source": [
    "dataset = pd.read_csv(infile, sep='\\t')"
   ]
  },
  {
   "cell_type": "code",
   "execution_count": 8,
   "id": "64dfe782",
   "metadata": {},
   "outputs": [],
   "source": [
    "x = dataset.iloc[:, :-1].values"
   ]
  },
  {
   "cell_type": "code",
   "execution_count": 11,
   "id": "0f9f783f",
   "metadata": {},
   "outputs": [],
   "source": [
    "y = dataset.iloc[:, -1].values"
   ]
  },
  {
   "cell_type": "code",
   "execution_count": 13,
   "id": "29d65e72",
   "metadata": {},
   "outputs": [
    {
     "data": {
      "text/plain": [
       "array([['n', 'y'],\n",
       "       ['n', 'y'],\n",
       "       ['y', 'y'],\n",
       "       ['y', 'y'],\n",
       "       ['y', 'y'],\n",
       "       ['y', 'y'],\n",
       "       ['y', 'y'],\n",
       "       ['n', 'y'],\n",
       "       ['y', 'y'],\n",
       "       ['n', 'n'],\n",
       "       ['y', 'y'],\n",
       "       ['n', 'y'],\n",
       "       ['y', 'y'],\n",
       "       ['n', 'n'],\n",
       "       ['n', 'y'],\n",
       "       ['n', 'n'],\n",
       "       ['y', 'y'],\n",
       "       ['y', 'y'],\n",
       "       ['y', 'y'],\n",
       "       ['y', 'y'],\n",
       "       ['n', 'y'],\n",
       "       ['y', 'y'],\n",
       "       ['y', 'n'],\n",
       "       ['n', 'n'],\n",
       "       ['n', 'y'],\n",
       "       ['n', 'y'],\n",
       "       ['n', 'y'],\n",
       "       ['n', 'n']], dtype=object)"
      ]
     },
     "execution_count": 13,
     "metadata": {},
     "output_type": "execute_result"
    }
   ],
   "source": [
    "x"
   ]
  },
  {
   "cell_type": "code",
   "execution_count": 14,
   "id": "2a6e0194",
   "metadata": {},
   "outputs": [
    {
     "data": {
      "text/plain": [
       "array(['democrat', 'republican', 'democrat', 'democrat', 'democrat',\n",
       "       'democrat', 'democrat', 'republican', 'democrat', 'republican',\n",
       "       'democrat', 'republican', 'democrat', 'republican', 'republican',\n",
       "       'republican', 'democrat', 'democrat', 'democrat', 'democrat',\n",
       "       'democrat', 'democrat', 'republican', 'republican', 'republican',\n",
       "       'republican', 'republican', 'republican'], dtype=object)"
      ]
     },
     "execution_count": 14,
     "metadata": {},
     "output_type": "execute_result"
    }
   ],
   "source": [
    "y"
   ]
  },
  {
   "cell_type": "code",
   "execution_count": 22,
   "id": "3e5056fa",
   "metadata": {},
   "outputs": [],
   "source": [
    "numAttributes = len(x[0]) "
   ]
  },
  {
   "cell_type": "code",
   "execution_count": 23,
   "id": "a2e7a425",
   "metadata": {},
   "outputs": [
    {
     "data": {
      "text/plain": [
       "2"
      ]
     },
     "execution_count": 23,
     "metadata": {},
     "output_type": "execute_result"
    }
   ],
   "source": [
    "numAttributes"
   ]
  },
  {
   "cell_type": "code",
   "execution_count": 41,
   "id": "e84e6930",
   "metadata": {},
   "outputs": [],
   "source": [
    "def calcMutualInfo(dataset):\n",
    "    numEntries = len(dataset)\n",
    "    labelCounts = {}\n",
    "    for ele in dataset:\n",
    "        currentLabel = ele[-1]\n",
    "        if currentLabel not in labelCounts.keys():\n",
    "            labelCounts[currentLabel] = 0\n",
    "        labelCounts[currentLabel] += 1\n",
    "    \n",
    "    entropy = 0.0\n",
    "    for key in labelCounts:\n",
    "        prob = float(labelCounts[key]) / numEntries\n",
    "        entropy -= prob * math.log(prob, 2)\n",
    "    \n",
    "    return entropy"
   ]
  },
  {
   "cell_type": "code",
   "execution_count": 42,
   "id": "cdf2f084",
   "metadata": {},
   "outputs": [
    {
     "data": {
      "text/plain": [
       "0.515073741649029"
      ]
     },
     "execution_count": 42,
     "metadata": {},
     "output_type": "execute_result"
    }
   ],
   "source": [
    "calcMutualInfo(dataset)"
   ]
  },
  {
   "cell_type": "code",
   "execution_count": 43,
   "id": "c137f5be",
   "metadata": {},
   "outputs": [
    {
     "data": {
      "text/plain": [
       "array(['democrat', 'republican', 'democrat', 'democrat', 'democrat',\n",
       "       'democrat', 'democrat', 'republican', 'democrat', 'republican',\n",
       "       'democrat', 'republican', 'democrat', 'republican', 'republican',\n",
       "       'republican', 'democrat', 'democrat', 'democrat', 'democrat',\n",
       "       'democrat', 'democrat', 'republican', 'republican', 'republican',\n",
       "       'republican', 'republican', 'republican'], dtype=object)"
      ]
     },
     "execution_count": 43,
     "metadata": {},
     "output_type": "execute_result"
    }
   ],
   "source": [
    "y"
   ]
  },
  {
   "cell_type": "code",
   "execution_count": 52,
   "id": "82fee5ab",
   "metadata": {},
   "outputs": [
    {
     "ename": "NameError",
     "evalue": "name 'democrat' is not defined",
     "output_type": "error",
     "traceback": [
      "\u001b[0;31m---------------------------------------------------------------------------\u001b[0m",
      "\u001b[0;31mNameError\u001b[0m                                 Traceback (most recent call last)",
      "\u001b[0;32m<ipython-input-52-3975f2dd2371>\u001b[0m in \u001b[0;36m<module>\u001b[0;34m\u001b[0m\n\u001b[1;32m      1\u001b[0m \u001b[0;32mfor\u001b[0m \u001b[0mi\u001b[0m \u001b[0;32min\u001b[0m \u001b[0my\u001b[0m\u001b[0;34m:\u001b[0m\u001b[0;34m\u001b[0m\u001b[0;34m\u001b[0m\u001b[0m\n\u001b[1;32m      2\u001b[0m     \u001b[0mcount\u001b[0m \u001b[0;34m=\u001b[0m \u001b[0;36m0\u001b[0m\u001b[0;34m\u001b[0m\u001b[0;34m\u001b[0m\u001b[0m\n\u001b[0;32m----> 3\u001b[0;31m     \u001b[0;32mif\u001b[0m \u001b[0mi\u001b[0m \u001b[0;34m==\u001b[0m \u001b[0mdemocrat\u001b[0m\u001b[0;34m:\u001b[0m\u001b[0;34m\u001b[0m\u001b[0;34m\u001b[0m\u001b[0m\n\u001b[0m\u001b[1;32m      4\u001b[0m         \u001b[0mcount\u001b[0m \u001b[0;34m+=\u001b[0m \u001b[0;36m1\u001b[0m\u001b[0;34m\u001b[0m\u001b[0;34m\u001b[0m\u001b[0m\n",
      "\u001b[0;31mNameError\u001b[0m: name 'democrat' is not defined"
     ]
    }
   ],
   "source": [
    "for i in y:\n",
    "    count = 0\n",
    "    if i == 'democrat':\n",
    "        count += 1"
   ]
  },
  {
   "cell_type": "code",
   "execution_count": 61,
   "id": "563058be",
   "metadata": {},
   "outputs": [
    {
     "data": {
      "text/plain": [
       "28"
      ]
     },
     "execution_count": 61,
     "metadata": {},
     "output_type": "execute_result"
    }
   ],
   "source": [
    "len(y)"
   ]
  },
  {
   "cell_type": "code",
   "execution_count": 63,
   "id": "c28b9239",
   "metadata": {},
   "outputs": [
    {
     "data": {
      "text/plain": [
       "array([['n', 'y'],\n",
       "       ['n', 'y'],\n",
       "       ['y', 'y'],\n",
       "       ['y', 'y'],\n",
       "       ['y', 'y'],\n",
       "       ['y', 'y'],\n",
       "       ['y', 'y'],\n",
       "       ['n', 'y'],\n",
       "       ['y', 'y'],\n",
       "       ['n', 'n'],\n",
       "       ['y', 'y'],\n",
       "       ['n', 'y'],\n",
       "       ['y', 'y'],\n",
       "       ['n', 'n'],\n",
       "       ['n', 'y'],\n",
       "       ['n', 'n'],\n",
       "       ['y', 'y'],\n",
       "       ['y', 'y'],\n",
       "       ['y', 'y'],\n",
       "       ['y', 'y'],\n",
       "       ['n', 'y'],\n",
       "       ['y', 'y'],\n",
       "       ['y', 'n'],\n",
       "       ['n', 'n'],\n",
       "       ['n', 'y'],\n",
       "       ['n', 'y'],\n",
       "       ['n', 'y'],\n",
       "       ['n', 'n']], dtype=object)"
      ]
     },
     "execution_count": 63,
     "metadata": {},
     "output_type": "execute_result"
    }
   ],
   "source": [
    "x "
   ]
  },
  {
   "cell_type": "code",
   "execution_count": 66,
   "id": "1fbf5a6e",
   "metadata": {},
   "outputs": [
    {
     "data": {
      "text/plain": [
       "array([['n', 'y', 'democrat'],\n",
       "       ['n', 'y', 'republican'],\n",
       "       ['y', 'y', 'democrat'],\n",
       "       ['y', 'y', 'democrat'],\n",
       "       ['y', 'y', 'democrat'],\n",
       "       ['y', 'y', 'democrat'],\n",
       "       ['y', 'y', 'democrat'],\n",
       "       ['n', 'y', 'republican'],\n",
       "       ['y', 'y', 'democrat'],\n",
       "       ['n', 'n', 'republican'],\n",
       "       ['y', 'y', 'democrat'],\n",
       "       ['n', 'y', 'republican'],\n",
       "       ['y', 'y', 'democrat'],\n",
       "       ['n', 'n', 'republican'],\n",
       "       ['n', 'y', 'republican'],\n",
       "       ['n', 'n', 'republican'],\n",
       "       ['y', 'y', 'democrat'],\n",
       "       ['y', 'y', 'democrat'],\n",
       "       ['y', 'y', 'democrat'],\n",
       "       ['y', 'y', 'democrat'],\n",
       "       ['n', 'y', 'democrat'],\n",
       "       ['y', 'y', 'democrat'],\n",
       "       ['y', 'n', 'republican'],\n",
       "       ['n', 'n', 'republican'],\n",
       "       ['n', 'y', 'republican'],\n",
       "       ['n', 'y', 'republican'],\n",
       "       ['n', 'y', 'republican'],\n",
       "       ['n', 'n', 'republican']], dtype=object)"
      ]
     },
     "execution_count": 66,
     "metadata": {},
     "output_type": "execute_result"
    }
   ],
   "source": [
    "dataset.values"
   ]
  },
  {
   "cell_type": "code",
   "execution_count": 69,
   "id": "2f688c63",
   "metadata": {},
   "outputs": [
    {
     "data": {
      "text/plain": [
       "2"
      ]
     },
     "execution_count": 69,
     "metadata": {},
     "output_type": "execute_result"
    }
   ],
   "source": [
    "len(x[0])"
   ]
  },
  {
   "cell_type": "code",
   "execution_count": 72,
   "id": "f357d247",
   "metadata": {},
   "outputs": [],
   "source": [
    "numAttributes = len(x[0])"
   ]
  },
  {
   "cell_type": "code",
   "execution_count": 73,
   "id": "5141a268",
   "metadata": {},
   "outputs": [
    {
     "data": {
      "text/plain": [
       "2"
      ]
     },
     "execution_count": 73,
     "metadata": {},
     "output_type": "execute_result"
    }
   ],
   "source": [
    "numAttributes"
   ]
  },
  {
   "cell_type": "code",
   "execution_count": 77,
   "id": "487a93b1",
   "metadata": {},
   "outputs": [],
   "source": [
    "for i in range(numAttributes):\n",
    "    attrList = [ele[i] for ele in x]\n",
    "    for v in set(attrList):\n",
    "        subset = sp;i"
   ]
  },
  {
   "cell_type": "code",
   "execution_count": 81,
   "id": "3ca7f9d2",
   "metadata": {},
   "outputs": [
    {
     "data": {
      "text/plain": [
       "{'n', 'y'}"
      ]
     },
     "execution_count": 81,
     "metadata": {},
     "output_type": "execute_result"
    }
   ],
   "source": [
    "set(attrList)"
   ]
  },
  {
   "cell_type": "code",
   "execution_count": 83,
   "id": "5f50e143",
   "metadata": {},
   "outputs": [
    {
     "ename": "TypeError",
     "evalue": "Cannot cast array data from dtype('O') to dtype('int64') according to the rule 'safe'",
     "output_type": "error",
     "traceback": [
      "\u001b[0;31m---------------------------------------------------------------------------\u001b[0m",
      "\u001b[0;31mTypeError\u001b[0m                                 Traceback (most recent call last)",
      "\u001b[0;32m<ipython-input-83-4d39d451aee4>\u001b[0m in \u001b[0;36m<module>\u001b[0;34m\u001b[0m\n\u001b[0;32m----> 1\u001b[0;31m \u001b[0mnp\u001b[0m\u001b[0;34m.\u001b[0m\u001b[0mbincount\u001b[0m\u001b[0;34m(\u001b[0m\u001b[0my\u001b[0m\u001b[0;34m)\u001b[0m\u001b[0;34m\u001b[0m\u001b[0;34m\u001b[0m\u001b[0m\n\u001b[0m",
      "\u001b[0;32m<__array_function__ internals>\u001b[0m in \u001b[0;36mbincount\u001b[0;34m(*args, **kwargs)\u001b[0m\n",
      "\u001b[0;31mTypeError\u001b[0m: Cannot cast array data from dtype('O') to dtype('int64') according to the rule 'safe'"
     ]
    }
   ],
   "source": [
    "np.bincount(y)"
   ]
  },
  {
   "cell_type": "code",
   "execution_count": 84,
   "id": "3fd89023",
   "metadata": {},
   "outputs": [
    {
     "data": {
      "text/plain": [
       "array(['democrat', 'republican', 'democrat', 'democrat', 'democrat',\n",
       "       'democrat', 'democrat', 'republican', 'democrat', 'republican',\n",
       "       'democrat', 'republican', 'democrat', 'republican', 'republican',\n",
       "       'republican', 'democrat', 'democrat', 'democrat', 'democrat',\n",
       "       'democrat', 'democrat', 'republican', 'republican', 'republican',\n",
       "       'republican', 'republican', 'republican'], dtype=object)"
      ]
     },
     "execution_count": 84,
     "metadata": {},
     "output_type": "execute_result"
    }
   ],
   "source": [
    "y"
   ]
  },
  {
   "cell_type": "code",
   "execution_count": 86,
   "id": "71cd631a",
   "metadata": {},
   "outputs": [],
   "source": [
    "o = Counter(y)"
   ]
  },
  {
   "cell_type": "code",
   "execution_count": 87,
   "id": "eaa2a230",
   "metadata": {},
   "outputs": [
    {
     "data": {
      "text/plain": [
       "Counter({'democrat': 15, 'republican': 13})"
      ]
     },
     "execution_count": 87,
     "metadata": {},
     "output_type": "execute_result"
    }
   ],
   "source": [
    "o"
   ]
  },
  {
   "cell_type": "code",
   "execution_count": 106,
   "id": "b6de201e",
   "metadata": {},
   "outputs": [
    {
     "data": {
      "text/plain": [
       "15"
      ]
     },
     "execution_count": 106,
     "metadata": {},
     "output_type": "execute_result"
    }
   ],
   "source": [
    "list(o.values())[0]"
   ]
  },
  {
   "cell_type": "code",
   "execution_count": null,
   "id": "d5d55024",
   "metadata": {},
   "outputs": [],
   "source": []
  }
 ],
 "metadata": {
  "kernelspec": {
   "display_name": "Python 3",
   "language": "python",
   "name": "python3"
  },
  "language_info": {
   "codemirror_mode": {
    "name": "ipython",
    "version": 3
   },
   "file_extension": ".py",
   "mimetype": "text/x-python",
   "name": "python",
   "nbconvert_exporter": "python",
   "pygments_lexer": "ipython3",
   "version": "3.8.8"
  }
 },
 "nbformat": 4,
 "nbformat_minor": 5
}
